{
  "cells": [
    {
      "cell_type": "markdown",
      "metadata": {
        "id": "view-in-github",
        "colab_type": "text"
      },
      "source": [
        "<a href=\"https://colab.research.google.com/github/Dil99818/Transfer_learning01/blob/main/NLP_(Natural_Language_Processing_).ipynb\" target=\"_parent\"><img src=\"https://colab.research.google.com/assets/colab-badge.svg\" alt=\"Open In Colab\"/></a>"
      ]
    },
    {
      "cell_type": "code",
      "execution_count": 2,
      "metadata": {
        "colab": {
          "base_uri": "https://localhost:8080/"
        },
        "id": "bfesX0bi16OY",
        "outputId": "0cd49758-2408-461d-94d1-8e36326beff7"
      },
      "outputs": [
        {
          "output_type": "stream",
          "name": "stdout",
          "text": [
            "--2022-07-24 12:01:51--  https://raw.githubusercontent.com/mrdbourke/tensorflow-deep-learning/main/extras/helper_functions.py\n",
            "Resolving raw.githubusercontent.com (raw.githubusercontent.com)... 185.199.110.133, 185.199.111.133, 185.199.108.133, ...\n",
            "Connecting to raw.githubusercontent.com (raw.githubusercontent.com)|185.199.110.133|:443... connected.\n",
            "HTTP request sent, awaiting response... 200 OK\n",
            "Length: 10246 (10K) [text/plain]\n",
            "Saving to: ‘helper_functions.py’\n",
            "\n",
            "\rhelper_functions.py   0%[                    ]       0  --.-KB/s               \rhelper_functions.py 100%[===================>]  10.01K  --.-KB/s    in 0s      \n",
            "\n",
            "2022-07-24 12:01:51 (82.7 MB/s) - ‘helper_functions.py’ saved [10246/10246]\n",
            "\n",
            "--2022-07-24 12:01:51--  https://storage.googleapis.com/ztm_tf_course/nlp_getting_started.zip\n",
            "Resolving storage.googleapis.com (storage.googleapis.com)... 173.194.214.128, 173.194.215.128, 173.194.217.128, ...\n",
            "Connecting to storage.googleapis.com (storage.googleapis.com)|173.194.214.128|:443... connected.\n",
            "HTTP request sent, awaiting response... 200 OK\n",
            "Length: 607343 (593K) [application/zip]\n",
            "Saving to: ‘nlp_getting_started.zip’\n",
            "\n",
            "nlp_getting_started 100%[===================>] 593.11K  --.-KB/s    in 0.005s  \n",
            "\n",
            "2022-07-24 12:01:51 (113 MB/s) - ‘nlp_getting_started.zip’ saved [607343/607343]\n",
            "\n"
          ]
        }
      ],
      "source": [
        "!wget https://raw.githubusercontent.com/mrdbourke/tensorflow-deep-learning/main/extras/helper_functions.py\n",
        "\n",
        "#Disaster & Real Disaster Data_set\n",
        "!wget https://storage.googleapis.com/ztm_tf_course/nlp_getting_started.zip\n",
        "\n",
        "def unzip_data(url):\n",
        "  import zipfile\n",
        "  data_url= zipfile.ZipFile(url)\n",
        "  data_url= data_url.extractall()\n",
        " \n",
        "\n",
        "unzip_data(\"nlp_getting_started.zip\")"
      ]
    },
    {
      "cell_type": "code",
      "execution_count": 3,
      "metadata": {
        "id": "N5A0lXb-bnY8"
      },
      "outputs": [],
      "source": [
        "def performance_calculate(model_preds, true_values, model_history):\n",
        "  from sklearn.metrics import precision_recall_fscore_support\n",
        "  model_precesion, model_recall, model_fscore, _ = precision_recall_fscore_support(model_preds, true_values, average=\"weighted\")\n",
        "  model_accuracy = model_history.history[\"val_accuracy\"][-1]\n",
        "\n",
        "  model_result= {\"model_precession\": model_precesion, \n",
        "                \"model_recall\": model_recall, \n",
        "                \"model_fscore\": model_fscore, \n",
        "                \"model_accuracy\": model_accuracy\n",
        "                }\n",
        "\n",
        "  return model_result"
      ]
    },
    {
      "cell_type": "code",
      "execution_count": 4,
      "metadata": {
        "colab": {
          "base_uri": "https://localhost:8080/",
          "height": 424
        },
        "id": "EqRa3ZX-rzKq",
        "outputId": "bcbee055-48d4-49ac-8d1d-705b7d16fe5d"
      },
      "outputs": [
        {
          "output_type": "execute_result",
          "data": {
            "text/plain": [
              "         id keyword location  \\\n",
              "0         1     NaN      NaN   \n",
              "1         4     NaN      NaN   \n",
              "2         5     NaN      NaN   \n",
              "3         6     NaN      NaN   \n",
              "4         7     NaN      NaN   \n",
              "...     ...     ...      ...   \n",
              "7608  10869     NaN      NaN   \n",
              "7609  10870     NaN      NaN   \n",
              "7610  10871     NaN      NaN   \n",
              "7611  10872     NaN      NaN   \n",
              "7612  10873     NaN      NaN   \n",
              "\n",
              "                                                   text  target  \n",
              "0     Our Deeds are the Reason of this #earthquake M...       1  \n",
              "1                Forest fire near La Ronge Sask. Canada       1  \n",
              "2     All residents asked to 'shelter in place' are ...       1  \n",
              "3     13,000 people receive #wildfires evacuation or...       1  \n",
              "4     Just got sent this photo from Ruby #Alaska as ...       1  \n",
              "...                                                 ...     ...  \n",
              "7608  Two giant cranes holding a bridge collapse int...       1  \n",
              "7609  @aria_ahrary @TheTawniest The out of control w...       1  \n",
              "7610  M1.94 [01:04 UTC]?5km S of Volcano Hawaii. htt...       1  \n",
              "7611  Police investigating after an e-bike collided ...       1  \n",
              "7612  The Latest: More Homes Razed by Northern Calif...       1  \n",
              "\n",
              "[7613 rows x 5 columns]"
            ],
            "text/html": [
              "\n",
              "  <div id=\"df-6c12e9e8-4d32-4a43-8c61-154b10abf67e\">\n",
              "    <div class=\"colab-df-container\">\n",
              "      <div>\n",
              "<style scoped>\n",
              "    .dataframe tbody tr th:only-of-type {\n",
              "        vertical-align: middle;\n",
              "    }\n",
              "\n",
              "    .dataframe tbody tr th {\n",
              "        vertical-align: top;\n",
              "    }\n",
              "\n",
              "    .dataframe thead th {\n",
              "        text-align: right;\n",
              "    }\n",
              "</style>\n",
              "<table border=\"1\" class=\"dataframe\">\n",
              "  <thead>\n",
              "    <tr style=\"text-align: right;\">\n",
              "      <th></th>\n",
              "      <th>id</th>\n",
              "      <th>keyword</th>\n",
              "      <th>location</th>\n",
              "      <th>text</th>\n",
              "      <th>target</th>\n",
              "    </tr>\n",
              "  </thead>\n",
              "  <tbody>\n",
              "    <tr>\n",
              "      <th>0</th>\n",
              "      <td>1</td>\n",
              "      <td>NaN</td>\n",
              "      <td>NaN</td>\n",
              "      <td>Our Deeds are the Reason of this #earthquake M...</td>\n",
              "      <td>1</td>\n",
              "    </tr>\n",
              "    <tr>\n",
              "      <th>1</th>\n",
              "      <td>4</td>\n",
              "      <td>NaN</td>\n",
              "      <td>NaN</td>\n",
              "      <td>Forest fire near La Ronge Sask. Canada</td>\n",
              "      <td>1</td>\n",
              "    </tr>\n",
              "    <tr>\n",
              "      <th>2</th>\n",
              "      <td>5</td>\n",
              "      <td>NaN</td>\n",
              "      <td>NaN</td>\n",
              "      <td>All residents asked to 'shelter in place' are ...</td>\n",
              "      <td>1</td>\n",
              "    </tr>\n",
              "    <tr>\n",
              "      <th>3</th>\n",
              "      <td>6</td>\n",
              "      <td>NaN</td>\n",
              "      <td>NaN</td>\n",
              "      <td>13,000 people receive #wildfires evacuation or...</td>\n",
              "      <td>1</td>\n",
              "    </tr>\n",
              "    <tr>\n",
              "      <th>4</th>\n",
              "      <td>7</td>\n",
              "      <td>NaN</td>\n",
              "      <td>NaN</td>\n",
              "      <td>Just got sent this photo from Ruby #Alaska as ...</td>\n",
              "      <td>1</td>\n",
              "    </tr>\n",
              "    <tr>\n",
              "      <th>...</th>\n",
              "      <td>...</td>\n",
              "      <td>...</td>\n",
              "      <td>...</td>\n",
              "      <td>...</td>\n",
              "      <td>...</td>\n",
              "    </tr>\n",
              "    <tr>\n",
              "      <th>7608</th>\n",
              "      <td>10869</td>\n",
              "      <td>NaN</td>\n",
              "      <td>NaN</td>\n",
              "      <td>Two giant cranes holding a bridge collapse int...</td>\n",
              "      <td>1</td>\n",
              "    </tr>\n",
              "    <tr>\n",
              "      <th>7609</th>\n",
              "      <td>10870</td>\n",
              "      <td>NaN</td>\n",
              "      <td>NaN</td>\n",
              "      <td>@aria_ahrary @TheTawniest The out of control w...</td>\n",
              "      <td>1</td>\n",
              "    </tr>\n",
              "    <tr>\n",
              "      <th>7610</th>\n",
              "      <td>10871</td>\n",
              "      <td>NaN</td>\n",
              "      <td>NaN</td>\n",
              "      <td>M1.94 [01:04 UTC]?5km S of Volcano Hawaii. htt...</td>\n",
              "      <td>1</td>\n",
              "    </tr>\n",
              "    <tr>\n",
              "      <th>7611</th>\n",
              "      <td>10872</td>\n",
              "      <td>NaN</td>\n",
              "      <td>NaN</td>\n",
              "      <td>Police investigating after an e-bike collided ...</td>\n",
              "      <td>1</td>\n",
              "    </tr>\n",
              "    <tr>\n",
              "      <th>7612</th>\n",
              "      <td>10873</td>\n",
              "      <td>NaN</td>\n",
              "      <td>NaN</td>\n",
              "      <td>The Latest: More Homes Razed by Northern Calif...</td>\n",
              "      <td>1</td>\n",
              "    </tr>\n",
              "  </tbody>\n",
              "</table>\n",
              "<p>7613 rows × 5 columns</p>\n",
              "</div>\n",
              "      <button class=\"colab-df-convert\" onclick=\"convertToInteractive('df-6c12e9e8-4d32-4a43-8c61-154b10abf67e')\"\n",
              "              title=\"Convert this dataframe to an interactive table.\"\n",
              "              style=\"display:none;\">\n",
              "        \n",
              "  <svg xmlns=\"http://www.w3.org/2000/svg\" height=\"24px\"viewBox=\"0 0 24 24\"\n",
              "       width=\"24px\">\n",
              "    <path d=\"M0 0h24v24H0V0z\" fill=\"none\"/>\n",
              "    <path d=\"M18.56 5.44l.94 2.06.94-2.06 2.06-.94-2.06-.94-.94-2.06-.94 2.06-2.06.94zm-11 1L8.5 8.5l.94-2.06 2.06-.94-2.06-.94L8.5 2.5l-.94 2.06-2.06.94zm10 10l.94 2.06.94-2.06 2.06-.94-2.06-.94-.94-2.06-.94 2.06-2.06.94z\"/><path d=\"M17.41 7.96l-1.37-1.37c-.4-.4-.92-.59-1.43-.59-.52 0-1.04.2-1.43.59L10.3 9.45l-7.72 7.72c-.78.78-.78 2.05 0 2.83L4 21.41c.39.39.9.59 1.41.59.51 0 1.02-.2 1.41-.59l7.78-7.78 2.81-2.81c.8-.78.8-2.07 0-2.86zM5.41 20L4 18.59l7.72-7.72 1.47 1.35L5.41 20z\"/>\n",
              "  </svg>\n",
              "      </button>\n",
              "      \n",
              "  <style>\n",
              "    .colab-df-container {\n",
              "      display:flex;\n",
              "      flex-wrap:wrap;\n",
              "      gap: 12px;\n",
              "    }\n",
              "\n",
              "    .colab-df-convert {\n",
              "      background-color: #E8F0FE;\n",
              "      border: none;\n",
              "      border-radius: 50%;\n",
              "      cursor: pointer;\n",
              "      display: none;\n",
              "      fill: #1967D2;\n",
              "      height: 32px;\n",
              "      padding: 0 0 0 0;\n",
              "      width: 32px;\n",
              "    }\n",
              "\n",
              "    .colab-df-convert:hover {\n",
              "      background-color: #E2EBFA;\n",
              "      box-shadow: 0px 1px 2px rgba(60, 64, 67, 0.3), 0px 1px 3px 1px rgba(60, 64, 67, 0.15);\n",
              "      fill: #174EA6;\n",
              "    }\n",
              "\n",
              "    [theme=dark] .colab-df-convert {\n",
              "      background-color: #3B4455;\n",
              "      fill: #D2E3FC;\n",
              "    }\n",
              "\n",
              "    [theme=dark] .colab-df-convert:hover {\n",
              "      background-color: #434B5C;\n",
              "      box-shadow: 0px 1px 3px 1px rgba(0, 0, 0, 0.15);\n",
              "      filter: drop-shadow(0px 1px 2px rgba(0, 0, 0, 0.3));\n",
              "      fill: #FFFFFF;\n",
              "    }\n",
              "  </style>\n",
              "\n",
              "      <script>\n",
              "        const buttonEl =\n",
              "          document.querySelector('#df-6c12e9e8-4d32-4a43-8c61-154b10abf67e button.colab-df-convert');\n",
              "        buttonEl.style.display =\n",
              "          google.colab.kernel.accessAllowed ? 'block' : 'none';\n",
              "\n",
              "        async function convertToInteractive(key) {\n",
              "          const element = document.querySelector('#df-6c12e9e8-4d32-4a43-8c61-154b10abf67e');\n",
              "          const dataTable =\n",
              "            await google.colab.kernel.invokeFunction('convertToInteractive',\n",
              "                                                     [key], {});\n",
              "          if (!dataTable) return;\n",
              "\n",
              "          const docLinkHtml = 'Like what you see? Visit the ' +\n",
              "            '<a target=\"_blank\" href=https://colab.research.google.com/notebooks/data_table.ipynb>data table notebook</a>'\n",
              "            + ' to learn more about interactive tables.';\n",
              "          element.innerHTML = '';\n",
              "          dataTable['output_type'] = 'display_data';\n",
              "          await google.colab.output.renderOutput(dataTable, element);\n",
              "          const docLink = document.createElement('div');\n",
              "          docLink.innerHTML = docLinkHtml;\n",
              "          element.appendChild(docLink);\n",
              "        }\n",
              "      </script>\n",
              "    </div>\n",
              "  </div>\n",
              "  "
            ]
          },
          "metadata": {},
          "execution_count": 4
        }
      ],
      "source": [
        "import pandas as pd\n",
        "train_data= pd.read_csv(\"train.csv\") \n",
        "test_data= pd.read_csv(\"test.csv\")\n",
        "\n",
        "train_data"
      ]
    },
    {
      "cell_type": "code",
      "execution_count": 5,
      "metadata": {
        "colab": {
          "base_uri": "https://localhost:8080/",
          "height": 35
        },
        "id": "ZBhqKO7dtOxi",
        "outputId": "9b80aa06-7ac6-41ec-876c-6d53278602c9"
      },
      "outputs": [
        {
          "output_type": "execute_result",
          "data": {
            "text/plain": [
              "'Our Deeds are the Reason of this #earthquake May ALLAH Forgive us all'"
            ],
            "application/vnd.google.colaboratory.intrinsic+json": {
              "type": "string"
            }
          },
          "metadata": {},
          "execution_count": 5
        }
      ],
      "source": [
        "train_data[\"text\"][0]"
      ]
    },
    {
      "cell_type": "code",
      "execution_count": 6,
      "metadata": {
        "colab": {
          "base_uri": "https://localhost:8080/",
          "height": 206
        },
        "id": "kb7ZrESAtO6R",
        "outputId": "18b9e889-41c3-4051-c4e0-241b3c9b1d34"
      },
      "outputs": [
        {
          "output_type": "execute_result",
          "data": {
            "text/plain": [
              "        id      keyword               location  \\\n",
              "2644  3796  destruction                    NaN   \n",
              "2227  3185       deluge                    NaN   \n",
              "5448  7769       police                     UK   \n",
              "132    191   aftershock                    NaN   \n",
              "6845  9810       trauma  Montgomery County, MD   \n",
              "\n",
              "                                                   text  target  \n",
              "2644  So you have a new weapon that can cause un-ima...       1  \n",
              "2227  The f$&amp;@ing things I do for #GISHWHES Just...       0  \n",
              "5448  DT @georgegalloway: RT @Galloway4Mayor: ÛÏThe...       1  \n",
              "132   Aftershock back to school kick off was great. ...       0  \n",
              "6845  in response to trauma Children of Addicts deve...       0  "
            ],
            "text/html": [
              "\n",
              "  <div id=\"df-60bcd91a-07c6-4259-81c2-b7c8b6073ae3\">\n",
              "    <div class=\"colab-df-container\">\n",
              "      <div>\n",
              "<style scoped>\n",
              "    .dataframe tbody tr th:only-of-type {\n",
              "        vertical-align: middle;\n",
              "    }\n",
              "\n",
              "    .dataframe tbody tr th {\n",
              "        vertical-align: top;\n",
              "    }\n",
              "\n",
              "    .dataframe thead th {\n",
              "        text-align: right;\n",
              "    }\n",
              "</style>\n",
              "<table border=\"1\" class=\"dataframe\">\n",
              "  <thead>\n",
              "    <tr style=\"text-align: right;\">\n",
              "      <th></th>\n",
              "      <th>id</th>\n",
              "      <th>keyword</th>\n",
              "      <th>location</th>\n",
              "      <th>text</th>\n",
              "      <th>target</th>\n",
              "    </tr>\n",
              "  </thead>\n",
              "  <tbody>\n",
              "    <tr>\n",
              "      <th>2644</th>\n",
              "      <td>3796</td>\n",
              "      <td>destruction</td>\n",
              "      <td>NaN</td>\n",
              "      <td>So you have a new weapon that can cause un-ima...</td>\n",
              "      <td>1</td>\n",
              "    </tr>\n",
              "    <tr>\n",
              "      <th>2227</th>\n",
              "      <td>3185</td>\n",
              "      <td>deluge</td>\n",
              "      <td>NaN</td>\n",
              "      <td>The f$&amp;amp;@ing things I do for #GISHWHES Just...</td>\n",
              "      <td>0</td>\n",
              "    </tr>\n",
              "    <tr>\n",
              "      <th>5448</th>\n",
              "      <td>7769</td>\n",
              "      <td>police</td>\n",
              "      <td>UK</td>\n",
              "      <td>DT @georgegalloway: RT @Galloway4Mayor: ÛÏThe...</td>\n",
              "      <td>1</td>\n",
              "    </tr>\n",
              "    <tr>\n",
              "      <th>132</th>\n",
              "      <td>191</td>\n",
              "      <td>aftershock</td>\n",
              "      <td>NaN</td>\n",
              "      <td>Aftershock back to school kick off was great. ...</td>\n",
              "      <td>0</td>\n",
              "    </tr>\n",
              "    <tr>\n",
              "      <th>6845</th>\n",
              "      <td>9810</td>\n",
              "      <td>trauma</td>\n",
              "      <td>Montgomery County, MD</td>\n",
              "      <td>in response to trauma Children of Addicts deve...</td>\n",
              "      <td>0</td>\n",
              "    </tr>\n",
              "  </tbody>\n",
              "</table>\n",
              "</div>\n",
              "      <button class=\"colab-df-convert\" onclick=\"convertToInteractive('df-60bcd91a-07c6-4259-81c2-b7c8b6073ae3')\"\n",
              "              title=\"Convert this dataframe to an interactive table.\"\n",
              "              style=\"display:none;\">\n",
              "        \n",
              "  <svg xmlns=\"http://www.w3.org/2000/svg\" height=\"24px\"viewBox=\"0 0 24 24\"\n",
              "       width=\"24px\">\n",
              "    <path d=\"M0 0h24v24H0V0z\" fill=\"none\"/>\n",
              "    <path d=\"M18.56 5.44l.94 2.06.94-2.06 2.06-.94-2.06-.94-.94-2.06-.94 2.06-2.06.94zm-11 1L8.5 8.5l.94-2.06 2.06-.94-2.06-.94L8.5 2.5l-.94 2.06-2.06.94zm10 10l.94 2.06.94-2.06 2.06-.94-2.06-.94-.94-2.06-.94 2.06-2.06.94z\"/><path d=\"M17.41 7.96l-1.37-1.37c-.4-.4-.92-.59-1.43-.59-.52 0-1.04.2-1.43.59L10.3 9.45l-7.72 7.72c-.78.78-.78 2.05 0 2.83L4 21.41c.39.39.9.59 1.41.59.51 0 1.02-.2 1.41-.59l7.78-7.78 2.81-2.81c.8-.78.8-2.07 0-2.86zM5.41 20L4 18.59l7.72-7.72 1.47 1.35L5.41 20z\"/>\n",
              "  </svg>\n",
              "      </button>\n",
              "      \n",
              "  <style>\n",
              "    .colab-df-container {\n",
              "      display:flex;\n",
              "      flex-wrap:wrap;\n",
              "      gap: 12px;\n",
              "    }\n",
              "\n",
              "    .colab-df-convert {\n",
              "      background-color: #E8F0FE;\n",
              "      border: none;\n",
              "      border-radius: 50%;\n",
              "      cursor: pointer;\n",
              "      display: none;\n",
              "      fill: #1967D2;\n",
              "      height: 32px;\n",
              "      padding: 0 0 0 0;\n",
              "      width: 32px;\n",
              "    }\n",
              "\n",
              "    .colab-df-convert:hover {\n",
              "      background-color: #E2EBFA;\n",
              "      box-shadow: 0px 1px 2px rgba(60, 64, 67, 0.3), 0px 1px 3px 1px rgba(60, 64, 67, 0.15);\n",
              "      fill: #174EA6;\n",
              "    }\n",
              "\n",
              "    [theme=dark] .colab-df-convert {\n",
              "      background-color: #3B4455;\n",
              "      fill: #D2E3FC;\n",
              "    }\n",
              "\n",
              "    [theme=dark] .colab-df-convert:hover {\n",
              "      background-color: #434B5C;\n",
              "      box-shadow: 0px 1px 3px 1px rgba(0, 0, 0, 0.15);\n",
              "      filter: drop-shadow(0px 1px 2px rgba(0, 0, 0, 0.3));\n",
              "      fill: #FFFFFF;\n",
              "    }\n",
              "  </style>\n",
              "\n",
              "      <script>\n",
              "        const buttonEl =\n",
              "          document.querySelector('#df-60bcd91a-07c6-4259-81c2-b7c8b6073ae3 button.colab-df-convert');\n",
              "        buttonEl.style.display =\n",
              "          google.colab.kernel.accessAllowed ? 'block' : 'none';\n",
              "\n",
              "        async function convertToInteractive(key) {\n",
              "          const element = document.querySelector('#df-60bcd91a-07c6-4259-81c2-b7c8b6073ae3');\n",
              "          const dataTable =\n",
              "            await google.colab.kernel.invokeFunction('convertToInteractive',\n",
              "                                                     [key], {});\n",
              "          if (!dataTable) return;\n",
              "\n",
              "          const docLinkHtml = 'Like what you see? Visit the ' +\n",
              "            '<a target=\"_blank\" href=https://colab.research.google.com/notebooks/data_table.ipynb>data table notebook</a>'\n",
              "            + ' to learn more about interactive tables.';\n",
              "          element.innerHTML = '';\n",
              "          dataTable['output_type'] = 'display_data';\n",
              "          await google.colab.output.renderOutput(dataTable, element);\n",
              "          const docLink = document.createElement('div');\n",
              "          docLink.innerHTML = docLinkHtml;\n",
              "          element.appendChild(docLink);\n",
              "        }\n",
              "      </script>\n",
              "    </div>\n",
              "  </div>\n",
              "  "
            ]
          },
          "metadata": {},
          "execution_count": 6
        }
      ],
      "source": [
        "train_data_shuffled= train_data.sample(frac=1, random_state=42)\n",
        "train_data_shuffled.head()"
      ]
    },
    {
      "cell_type": "code",
      "execution_count": 7,
      "metadata": {
        "colab": {
          "base_uri": "https://localhost:8080/"
        },
        "id": "RsD3vOtptO8v",
        "outputId": "dd85abe5-9fb4-4ee2-cc56-d48275a5e6c3"
      },
      "outputs": [
        {
          "output_type": "stream",
          "name": "stdout",
          "text": [
            "Random_number: 2305\n",
            "\n"
          ]
        },
        {
          "output_type": "execute_result",
          "data": {
            "text/plain": [
              "(\"I bought a 64oz jar of peanut butter and it's just getting demolished\", 0)"
            ]
          },
          "metadata": {},
          "execution_count": 7
        }
      ],
      "source": [
        "import random\n",
        "random_number = random.choice(range(len(train_data)))\n",
        "\n",
        "print(f\"Random_number: {random_number}\\n\")\n",
        "train_data[\"text\"][random_number], train_data[\"target\"][random_number]"
      ]
    },
    {
      "cell_type": "code",
      "execution_count": 8,
      "metadata": {
        "colab": {
          "base_uri": "https://localhost:8080/"
        },
        "id": "GLbMXXjqwmvr",
        "outputId": "063c0085-530e-4863-f2b2-86444eac9979"
      },
      "outputs": [
        {
          "output_type": "execute_result",
          "data": {
            "text/plain": [
              "0    4342\n",
              "1    3271\n",
              "Name: target, dtype: int64"
            ]
          },
          "metadata": {},
          "execution_count": 8
        }
      ],
      "source": [
        "train_data[\"target\"].value_counts()"
      ]
    },
    {
      "cell_type": "code",
      "execution_count": 9,
      "metadata": {
        "colab": {
          "base_uri": "https://localhost:8080/"
        },
        "id": "Zscs4GQBwmx7",
        "outputId": "d8bd7a08-3a14-4068-f0c6-a7cc6796c56b"
      },
      "outputs": [
        {
          "output_type": "stream",
          "name": "stdout",
          "text": [
            "Total training samples: 7613\n",
            "Total test samples: 3263\n",
            "Total samples: 10876\n"
          ]
        }
      ],
      "source": [
        "# How many samples total?\n",
        "print(f\"Total training samples: {len(train_data)}\")\n",
        "print(f\"Total test samples: {len(test_data)}\")\n",
        "print(f\"Total samples: {len(train_data) + len(test_data)}\")\n"
      ]
    },
    {
      "cell_type": "markdown",
      "metadata": {
        "id": "tJH7umipS1_T"
      },
      "source": [
        "# Model_0 (Naive Bayes with TF-IDF encoder(baseline)"
      ]
    },
    {
      "cell_type": "code",
      "execution_count": 10,
      "metadata": {
        "id": "AzU0zi4OxrHi"
      },
      "outputs": [],
      "source": [
        "#Split data into train & validation\n",
        "from sklearn.model_selection import train_test_split\n",
        "\n",
        "x_train, y_train, x_test, y_test = train_test_split(train_data_shuffled['text'].to_numpy(), \n",
        "                                                    train_data_shuffled['target'].to_numpy(),\n",
        "                                                    test_size=0.1, \n",
        "                                                    random_state=42)"
      ]
    },
    {
      "cell_type": "code",
      "execution_count": 11,
      "metadata": {
        "colab": {
          "base_uri": "https://localhost:8080/"
        },
        "id": "GzngZq_cwm0L",
        "outputId": "578bf425-4218-4647-b103-e468609e0ae2"
      },
      "outputs": [
        {
          "output_type": "execute_result",
          "data": {
            "text/plain": [
              "(6851, 762, 762, 6851)"
            ]
          },
          "metadata": {},
          "execution_count": 11
        }
      ],
      "source": [
        "len(x_train), len(y_test), len(y_train), len(x_test)"
      ]
    },
    {
      "cell_type": "code",
      "execution_count": 12,
      "metadata": {
        "colab": {
          "base_uri": "https://localhost:8080/"
        },
        "id": "mema33PKsKSi",
        "outputId": "d9a29730-6b21-404b-b188-d3bf510936cb"
      },
      "outputs": [
        {
          "output_type": "execute_result",
          "data": {
            "text/plain": [
              "array(['So you have a new weapon that can cause un-imaginable destruction.',\n",
              "       'The f$&amp;@ing things I do for #GISHWHES Just got soaked in a deluge going for pads and tampons. Thx @mishacollins @/@'],\n",
              "      dtype=object)"
            ]
          },
          "metadata": {},
          "execution_count": 12
        }
      ],
      "source": [
        "train_data_shuffled['text'].to_numpy()[:2]"
      ]
    },
    {
      "cell_type": "code",
      "execution_count": 13,
      "metadata": {
        "id": "j28HI2vKwm2t"
      },
      "outputs": [],
      "source": [
        "#Converting text into numbers\n",
        "#Text vectorization (tokenization)\n",
        "import tensorflow as tf\n",
        "\n",
        "text_vectorization= tf.keras.layers.TextVectorization(\n",
        "                                                      max_tokens= None,\n",
        "                                                      standardize= \"lower_and_strip_punctuation\",\n",
        "                                                      split= \"whitespace\",\n",
        "                                                      ngrams=None,\n",
        "                                                      output_mode= \"int\",\n",
        "                                                      output_sequence_length= None\n",
        "                                                      )"
      ]
    },
    {
      "cell_type": "code",
      "execution_count": 14,
      "metadata": {
        "colab": {
          "base_uri": "https://localhost:8080/"
        },
        "id": "d84XWp76tO-m",
        "outputId": "b4506412-e7b9-4844-9277-66976cd670ee"
      },
      "outputs": [
        {
          "output_type": "execute_result",
          "data": {
            "text/plain": [
              "15"
            ]
          },
          "metadata": {},
          "execution_count": 14
        }
      ],
      "source": [
        "# Find average number of tokens (words) in training Tweets\n",
        "round(sum([len(i.split()) for i in x_train])/len(x_train))"
      ]
    },
    {
      "cell_type": "code",
      "execution_count": 15,
      "metadata": {
        "id": "WZE9wJDi3D7R"
      },
      "outputs": [],
      "source": [
        "max_length= 15\n",
        "max_vacab_len= 1000\n",
        "\n",
        "text_vectorization=tf.keras.layers.TextVectorization(max_tokens= max_vacab_len, #Number of words in vocab\n",
        "                                                     output_sequence_length = max_length, \n",
        "                                                     output_mode=\"int\"\n",
        "                                                     )"
      ]
    },
    {
      "cell_type": "code",
      "execution_count": 16,
      "metadata": {
        "id": "m5z1o5_jbnei"
      },
      "outputs": [],
      "source": [
        "# Fit the text vectorizer to the training text\n",
        "text_vectorization.adapt(x_train)"
      ]
    },
    {
      "cell_type": "code",
      "execution_count": 17,
      "metadata": {
        "colab": {
          "base_uri": "https://localhost:8080/"
        },
        "id": "gHV2enPV3D-e",
        "outputId": "b19eda72-a178-4b83-85db-cf306f8434fe"
      },
      "outputs": [
        {
          "output_type": "execute_result",
          "data": {
            "text/plain": [
              "<tf.Tensor: shape=(1, 15), dtype=int64, numpy=\n",
              "array([[  8, 110,   1,   0,   0,   0,   0,   0,   0,   0,   0,   0,   0,\n",
              "          0,   0]])>"
            ]
          },
          "metadata": {},
          "execution_count": 17
        }
      ],
      "source": [
        "# Create sample sentence and tokenize it\n",
        "sentence = \"I love Tensorflow\"\n",
        "\n",
        "text_vectorization([sentence])"
      ]
    },
    {
      "cell_type": "code",
      "execution_count": 18,
      "metadata": {
        "colab": {
          "base_uri": "https://localhost:8080/"
        },
        "id": "hRfg77uBbaZp",
        "outputId": "8e2ca551-e35f-40de-900a-8867e4244c0c"
      },
      "outputs": [
        {
          "output_type": "stream",
          "name": "stdout",
          "text": [
            "Turn on ESPN2 and get blown up\n",
            "\n"
          ]
        },
        {
          "output_type": "execute_result",
          "data": {
            "text/plain": [
              "<tf.Tensor: shape=(1, 15), dtype=int64, numpy=\n",
              "array([[916,  11,   1,   7,  52, 468,  27,   0,   0,   0,   0,   0,   0,\n",
              "          0,   0]])>"
            ]
          },
          "metadata": {},
          "execution_count": 18
        }
      ],
      "source": [
        "import random\n",
        "random_sentence = random.choice(x_train)\n",
        "\n",
        "print(f\"{random_sentence}\\n\")\n",
        "\n",
        "text_vectorization([random_sentence])"
      ]
    },
    {
      "cell_type": "code",
      "execution_count": 19,
      "metadata": {
        "colab": {
          "base_uri": "https://localhost:8080/"
        },
        "id": "NQpd8KpAdxA_",
        "outputId": "8d4d7a71-5110-4092-e049-5daf2f9764f3"
      },
      "outputs": [
        {
          "output_type": "stream",
          "name": "stdout",
          "text": [
            "5 most common words: ['', '[UNK]', 'the', 'a', 'in']\n",
            "5 least common words: ['reported', 'r', 'pray', 'playlist', 'patience']\n"
          ]
        }
      ],
      "source": [
        "#Get the unique words in the vocabulary\n",
        "words_in_vocab = text_vectorization.get_vocabulary() # To get most common & uniqe code\n",
        "top_5_words= words_in_vocab[:5]\n",
        "bottom_5_words= words_in_vocab[-5:] \n",
        "\n",
        "print(f\"5 most common words: {top_5_words}\")\n",
        "print(f\"5 least common words: {bottom_5_words}\")"
      ]
    },
    {
      "cell_type": "code",
      "execution_count": 20,
      "metadata": {
        "colab": {
          "base_uri": "https://localhost:8080/"
        },
        "id": "MLnIM9LMprKE",
        "outputId": "bd75f73b-1cd7-4d9a-9cfa-c5cd50e35b65"
      },
      "outputs": [
        {
          "output_type": "execute_result",
          "data": {
            "text/plain": [
              "1000"
            ]
          },
          "metadata": {},
          "execution_count": 20
        }
      ],
      "source": [
        "len(words_in_vocab)"
      ]
    },
    {
      "cell_type": "code",
      "execution_count": 21,
      "metadata": {
        "colab": {
          "base_uri": "https://localhost:8080/"
        },
        "id": "KxaLrxTspXz9",
        "outputId": "d999861a-0358-4a61-a7ae-cdd8a6fd7c4e"
      },
      "outputs": [
        {
          "output_type": "execute_result",
          "data": {
            "text/plain": [
              "<keras.layers.embeddings.Embedding at 0x7fbfb5cb8510>"
            ]
          },
          "metadata": {},
          "execution_count": 21
        }
      ],
      "source": [
        "#Creating an Embedding using an Embedding Layer\n",
        "tf.random.set_seed(42)\n",
        "embedding= tf.keras.layers.Embedding(input_dim=max_vacab_len, #The size of the vocabulary\n",
        "                                     output_dim=128,\n",
        "                                     embeddings_initializer= \"uniform\",\n",
        "                                     input_length= max_length,\n",
        "                                     name=\"Embedding_1\")\n",
        "\n",
        "embedding"
      ]
    },
    {
      "cell_type": "code",
      "execution_count": 22,
      "metadata": {
        "colab": {
          "base_uri": "https://localhost:8080/"
        },
        "id": "wYbvNTj4pX2j",
        "outputId": "769ec5ab-3142-449b-e08d-78fdf8c0942e"
      },
      "outputs": [
        {
          "output_type": "stream",
          "name": "stdout",
          "text": [
            "See Aug 4 2015 PoconoRecord @EmergencyMgtMag - How Many Households Have an #Emergency Plan? | http://t.co/7zlsUmIess http://t.co/TdccH01N7q\n",
            "\n",
            "\n"
          ]
        },
        {
          "output_type": "execute_result",
          "data": {
            "text/plain": [
              "<tf.Tensor: shape=(15, 128), dtype=float32, numpy=\n",
              "array([[-0.02948627,  0.01148951, -0.01514598, ..., -0.00025954,\n",
              "        -0.02447712,  0.04342348],\n",
              "       [-0.01976377,  0.02037274, -0.01112032, ..., -0.03593625,\n",
              "        -0.01426295, -0.01100101],\n",
              "       [-0.04893592,  0.0305549 , -0.00395172, ..., -0.00042392,\n",
              "        -0.02374576, -0.01814268],\n",
              "       ...,\n",
              "       [ 0.01957505, -0.01195463, -0.02071192, ...,  0.04092873,\n",
              "         0.0389426 ,  0.00011085],\n",
              "       [ 0.03977952, -0.03782602, -0.03646283, ...,  0.00236253,\n",
              "         0.03332629,  0.02803668],\n",
              "       [ 0.03977952, -0.03782602, -0.03646283, ...,  0.00236253,\n",
              "         0.03332629,  0.02803668]], dtype=float32)>"
            ]
          },
          "metadata": {},
          "execution_count": 22
        }
      ],
      "source": [
        "import random\n",
        "\n",
        "sentence1= random.choice(x_train)\n",
        "print(f\"{sentence1}\\n\\n\")\n",
        "\n",
        "embedded_sentence = embedding(text_vectorization(sentence1))\n",
        "embedded_sentence"
      ]
    },
    {
      "cell_type": "code",
      "execution_count": 23,
      "metadata": {
        "colab": {
          "base_uri": "https://localhost:8080/"
        },
        "id": "byFplah8bWtm",
        "outputId": "ae94c15b-2b10-48f6-9a71-4feeabfd25d3"
      },
      "outputs": [
        {
          "output_type": "stream",
          "name": "stdout",
          "text": [
            "sentence1[0][0]: S\n",
            "\n",
            "text_vectorization(sentence1): [ 99 795 178 208   1   1  62 123   1  24  39  73 241   1   1]\n",
            "\n",
            "embedded_sentence[0][0]: -0.02948627434670925\n",
            "\n",
            "embedded_sentence[0][0].shape: ()\n",
            "\n",
            "embedded_sentence[0]: [-0.02948627  0.01148951 -0.01514598 -0.01148516 -0.00735215 -0.02511486\n",
            "  0.03538277  0.02630532  0.01632409 -0.00828558  0.02188753 -0.02601174\n",
            "  0.02184752  0.04930481 -0.02080594 -0.01420866  0.01868147  0.01588101\n",
            "  0.02214367  0.04268905 -0.01382654  0.02829729 -0.01068055 -0.03387648\n",
            " -0.03666351  0.04253091  0.02549371 -0.00578682  0.00717322 -0.01599176\n",
            "  0.0073033  -0.03333086 -0.02512605 -0.017672   -0.01987592 -0.01250928\n",
            " -0.00616174  0.02029321  0.01474216  0.02674908 -0.0385749  -0.04116554\n",
            "  0.03660392  0.03389076  0.00438081  0.00357238 -0.00060926  0.01954906\n",
            "  0.03412228  0.01954906 -0.04610495  0.02765996  0.04736717  0.04304044\n",
            " -0.0095695  -0.01891834  0.02098506 -0.00035484 -0.02650476  0.00861952\n",
            "  0.03095267 -0.04749161 -0.01095925 -0.01220249  0.03479047  0.01950771\n",
            "  0.03916749  0.01060606  0.01897312  0.01530707  0.00355991  0.00955498\n",
            "  0.00561982 -0.01226487 -0.02387239 -0.0302607  -0.04190707  0.00926526\n",
            "  0.00036657  0.00496017 -0.02386122  0.0268751   0.00895878  0.04012797\n",
            " -0.03627869 -0.00370343  0.04205408  0.03029707 -0.01422954 -0.03063883\n",
            " -0.04002211 -0.04810386  0.02979216  0.020908   -0.02818455  0.02339755\n",
            "  0.03553386 -0.04545752  0.04076483 -0.01412825  0.00038779  0.03633003\n",
            " -0.04792007 -0.00801267  0.03336166  0.01271545 -0.03653467 -0.00992475\n",
            "  0.04716939  0.04591553  0.02656681 -0.04207011 -0.01690285  0.04592136\n",
            " -0.01525406  0.021619    0.02795256  0.02375616  0.02748742  0.02999337\n",
            " -0.00901973  0.02582705 -0.03762687 -0.04646871 -0.02752333 -0.00025954\n",
            " -0.02447712  0.04342348]\n"
          ]
        }
      ],
      "source": [
        "#Single token Embedding\n",
        "print(f\"sentence1[0][0]: {sentence1[0][0]}\\n\")\n",
        "print(f\"text_vectorization(sentence1): {text_vectorization(sentence1)}\\n\"), \n",
        "print(f\"embedded_sentence[0][0]: {embedded_sentence[0][0]}\\n\")\n",
        "print(f\"embedded_sentence[0][0].shape: {embedded_sentence[0][0].shape}\\n\")\n",
        "print(f\"embedded_sentence[0]: {embedded_sentence[0]}\")"
      ]
    },
    {
      "cell_type": "code",
      "execution_count": 24,
      "metadata": {
        "colab": {
          "base_uri": "https://localhost:8080/"
        },
        "id": "po52FeRs3JZe",
        "outputId": "52551bea-c1e2-4c73-9578-484bf32764c0"
      },
      "outputs": [
        {
          "output_type": "execute_result",
          "data": {
            "text/plain": [
              "Pipeline(steps=[('tfidf', TfidfVectorizer()), ('clf', MultinomialNB())])"
            ]
          },
          "metadata": {},
          "execution_count": 24
        }
      ],
      "source": [
        "from sklearn.feature_extraction.text import TfidfVectorizer # feature_extraction\n",
        "from sklearn.naive_bayes import MultinomialNB\n",
        "from sklearn.pipeline import Pipeline\n",
        "\n",
        "# Create tokenization and modelling pipeline\n",
        "model_0 = Pipeline([\n",
        "                    (\"tfidf\", TfidfVectorizer()),\n",
        "                    (\"clf\", MultinomialNB())\n",
        "])\n",
        "\n",
        "model_0.fit(x_train, x_test)"
      ]
    },
    {
      "cell_type": "code",
      "execution_count": 25,
      "metadata": {
        "colab": {
          "base_uri": "https://localhost:8080/"
        },
        "id": "N8kdYSaWyHnN",
        "outputId": "974a2dc2-6258-4e33-e145-2d2bc985d0c6"
      },
      "outputs": [
        {
          "output_type": "execute_result",
          "data": {
            "text/plain": [
              "0.7926509186351706"
            ]
          },
          "metadata": {},
          "execution_count": 25
        }
      ],
      "source": [
        "baseline_score= model_0.score(y_train, y_test)\n",
        "baseline_score"
      ]
    },
    {
      "cell_type": "code",
      "execution_count": 26,
      "metadata": {
        "colab": {
          "base_uri": "https://localhost:8080/"
        },
        "id": "XSJESiwTlqrM",
        "outputId": "fa328ce6-8d0c-461a-e0b3-afb6db43a951"
      },
      "outputs": [
        {
          "output_type": "execute_result",
          "data": {
            "text/plain": [
              "array([1, 1, 1, 0, 0, 1, 1, 1, 1, 0, 0, 1, 0, 0, 0, 0, 0, 0, 0, 1])"
            ]
          },
          "metadata": {},
          "execution_count": 26
        }
      ],
      "source": [
        "baseline_preds= model_0.predict(y_train)\n",
        "baseline_preds[:20]"
      ]
    },
    {
      "cell_type": "code",
      "execution_count": 27,
      "metadata": {
        "colab": {
          "base_uri": "https://localhost:8080/"
        },
        "id": "_SlGmbXZlqtz",
        "outputId": "48f1eaee-bd5c-4a89-c1c6-01e5b8ccd231"
      },
      "outputs": [
        {
          "output_type": "execute_result",
          "data": {
            "text/plain": [
              "array([0, 0, 1, 1, 1, 1, 1, 1, 1, 0, 0, 0, 0, 0, 0, 0, 0, 0, 1, 0])"
            ]
          },
          "metadata": {},
          "execution_count": 27
        }
      ],
      "source": [
        "y_test[:20]"
      ]
    },
    {
      "cell_type": "code",
      "execution_count": 28,
      "metadata": {
        "colab": {
          "base_uri": "https://localhost:8080/"
        },
        "id": "InktlISClqwt",
        "outputId": "781e5665-8999-40fa-f8f2-564ef92dee75"
      },
      "outputs": [
        {
          "output_type": "execute_result",
          "data": {
            "text/plain": [
              "{'model_accuracy': 0.7926509186351706,\n",
              " 'model_fscore': 0.7862189758049549,\n",
              " 'model_precession': 0.8111390004213173,\n",
              " 'model_recall': 0.7926509186351706}"
            ]
          },
          "metadata": {},
          "execution_count": 28
        }
      ],
      "source": [
        "#Let's get Accuracy, Precision, Recall, F1-score\n",
        "def performance_calculater(y_true, y_pred):\n",
        "  from sklearn.metrics import accuracy_score, precision_recall_fscore_support \n",
        "\n",
        "  model_precesion, model_recall, model_fscore, _ = precision_recall_fscore_support(y_true, y_pred, average=\"weighted\")\n",
        "  \n",
        "\n",
        "  model_result= {\"model_precession\": model_precesion, \n",
        "                \"model_recall\": model_recall, \n",
        "                \"model_fscore\": model_fscore, \n",
        "                \"model_accuracy\": baseline_score\n",
        "                }\n",
        "\n",
        "  return model_result\n",
        "\n",
        "\n",
        "baseline_result= performance_calculater(y_test, baseline_preds)\n",
        "baseline_result"
      ]
    },
    {
      "cell_type": "markdown",
      "metadata": {
        "id": "SZfUqMSHIbY8"
      },
      "source": [
        "# Model_1 - Feed-forward neural network (Dense_model)\n",
        "\n"
      ]
    },
    {
      "cell_type": "code",
      "execution_count": 29,
      "metadata": {
        "id": "3-Kzgy9oniyC"
      },
      "outputs": [],
      "source": [
        "#Create the tensorcallbacks\n",
        "import datetime\n",
        "def create_tensorboard_callback(dir_name, experiment_name):\n",
        "\n",
        "  log_dir= dir_name + \"/\" + experiment_name + \"/\" + datetime.datetime.now().strftime(\"Y%M%D - H%M%S\")\n",
        "\n",
        "  tensorboard_callback=tf.keras.callbacks.TensorBoard(log_dir= log_dir)\n",
        "\n",
        "  print(f\"Saving TensorBoard log files to: {log_dir}\")\n",
        "  return tensorboard_callback"
      ]
    },
    {
      "cell_type": "code",
      "execution_count": 30,
      "metadata": {
        "id": "kQ5af47oni1U"
      },
      "outputs": [],
      "source": [
        "#Bulding the model with function API\n",
        "import tensorflow as tf\n",
        "inputs = tf.keras.layers.Input(shape=(1,), dtype= \"string\") #inputs are 1-dimensional strings\n",
        "x=text_vectorization(inputs) #turning inputs into number\n",
        "x= embedding(x) #create the embedding of the numerized number\n",
        "x= tf.keras.layers.GlobalAveragePooling1D()(x) # lower the dimensionality of the embedding\n",
        "outputs= tf.keras.layers.Dense(1, activation=\"sigmoid\")(x) #Output layers,  want binary outputs so use sigmoid activation\n",
        "model_1= tf.keras.Model(inputs, outputs, name=\"model_1_desne\")"
      ]
    },
    {
      "cell_type": "code",
      "execution_count": 31,
      "metadata": {
        "id": "-zWR4AQWOoFQ"
      },
      "outputs": [],
      "source": [
        "#Compile the model\n",
        "model_1.compile(loss=\"binary_crossentropy\",\n",
        "                optimizer= tf.keras.optimizers.Adam(),\n",
        "                metrics= [\"accuracy\"])"
      ]
    },
    {
      "cell_type": "code",
      "execution_count": 32,
      "metadata": {
        "colab": {
          "base_uri": "https://localhost:8080/"
        },
        "id": "r52Gp-r9OoOv",
        "outputId": "1466d27f-a875-4f1c-ced9-6bad0c526dd8"
      },
      "outputs": [
        {
          "output_type": "stream",
          "name": "stdout",
          "text": [
            "Model: \"model_1_desne\"\n",
            "_________________________________________________________________\n",
            " Layer (type)                Output Shape              Param #   \n",
            "=================================================================\n",
            " input_1 (InputLayer)        [(None, 1)]               0         \n",
            "                                                                 \n",
            " text_vectorization_1 (TextV  (None, 15)               0         \n",
            " ectorization)                                                   \n",
            "                                                                 \n",
            " Embedding_1 (Embedding)     (None, 15, 128)           128000    \n",
            "                                                                 \n",
            " global_average_pooling1d (G  (None, 128)              0         \n",
            " lobalAveragePooling1D)                                          \n",
            "                                                                 \n",
            " dense (Dense)               (None, 1)                 129       \n",
            "                                                                 \n",
            "=================================================================\n",
            "Total params: 128,129\n",
            "Trainable params: 128,129\n",
            "Non-trainable params: 0\n",
            "_________________________________________________________________\n"
          ]
        }
      ],
      "source": [
        "model_1.summary()"
      ]
    },
    {
      "cell_type": "code",
      "execution_count": 33,
      "metadata": {
        "colab": {
          "base_uri": "https://localhost:8080/"
        },
        "id": "_YWsGNn1Rkh7",
        "outputId": "f78c68ad-b6ff-4717-eb86-466320994547"
      },
      "outputs": [
        {
          "output_type": "stream",
          "name": "stdout",
          "text": [
            "Saving TensorBoard log files to: Tensorboard_for_NLP/Model_1_simple_dense_model/Y0207/24/22 - H0205\n",
            "Epoch 1/10\n",
            "215/215 [==============================] - 5s 5ms/step - loss: 0.6195 - accuracy: 0.6694 - val_loss: 0.5603 - val_accuracy: 0.7323\n",
            "Epoch 2/10\n",
            "215/215 [==============================] - 1s 4ms/step - loss: 0.4920 - accuracy: 0.7824 - val_loss: 0.5004 - val_accuracy: 0.7625\n",
            "Epoch 3/10\n",
            "215/215 [==============================] - 1s 4ms/step - loss: 0.4368 - accuracy: 0.8060 - val_loss: 0.4864 - val_accuracy: 0.7651\n",
            "Epoch 4/10\n",
            "215/215 [==============================] - 1s 4ms/step - loss: 0.4113 - accuracy: 0.8181 - val_loss: 0.4854 - val_accuracy: 0.7795\n",
            "Epoch 5/10\n",
            "215/215 [==============================] - 1s 4ms/step - loss: 0.3945 - accuracy: 0.8248 - val_loss: 0.4886 - val_accuracy: 0.7795\n",
            "Epoch 6/10\n",
            "215/215 [==============================] - 1s 4ms/step - loss: 0.3851 - accuracy: 0.8248 - val_loss: 0.4912 - val_accuracy: 0.7743\n",
            "Epoch 7/10\n",
            "215/215 [==============================] - 1s 4ms/step - loss: 0.3779 - accuracy: 0.8311 - val_loss: 0.4984 - val_accuracy: 0.7769\n",
            "Epoch 8/10\n",
            "215/215 [==============================] - 1s 4ms/step - loss: 0.3728 - accuracy: 0.8335 - val_loss: 0.5114 - val_accuracy: 0.7769\n",
            "Epoch 9/10\n",
            "215/215 [==============================] - 1s 4ms/step - loss: 0.3684 - accuracy: 0.8356 - val_loss: 0.5167 - val_accuracy: 0.7822\n",
            "Epoch 10/10\n",
            "215/215 [==============================] - 1s 4ms/step - loss: 0.3658 - accuracy: 0.8358 - val_loss: 0.5217 - val_accuracy: 0.7756\n"
          ]
        }
      ],
      "source": [
        "model_1_history = model_1.fit(x_train,\n",
        "                              x_test,\n",
        "                              epochs=10,\n",
        "                              validation_data= (y_train, y_test),\n",
        "                              callbacks=[create_tensorboard_callback(dir_name=\"Tensorboard_for_NLP\", \n",
        "                                                                     experiment_name=\"Model_1_simple_dense_model\")])"
      ]
    },
    {
      "cell_type": "code",
      "execution_count": 34,
      "metadata": {
        "colab": {
          "base_uri": "https://localhost:8080/"
        },
        "id": "bpcaIjWsRkko",
        "outputId": "f97f59e9-80b4-4d8e-c68e-5bb0e5b6960c"
      },
      "outputs": [
        {
          "output_type": "stream",
          "name": "stdout",
          "text": [
            "24/24 [==============================] - 0s 3ms/step - loss: 0.5217 - accuracy: 0.7756\n"
          ]
        },
        {
          "output_type": "execute_result",
          "data": {
            "text/plain": [
              "[0.5217219591140747, 0.7755905389785767]"
            ]
          },
          "metadata": {},
          "execution_count": 34
        }
      ],
      "source": [
        "model_1.evaluate(y_train, y_test)"
      ]
    },
    {
      "cell_type": "code",
      "execution_count": 35,
      "metadata": {
        "colab": {
          "base_uri": "https://localhost:8080/"
        },
        "id": "8YjvI325cKpU",
        "outputId": "c8e85fc1-a23c-4265-f2d8-0e05a4869636"
      },
      "outputs": [
        {
          "output_type": "execute_result",
          "data": {
            "text/plain": [
              "(<tf.Tensor: shape=(20,), dtype=float32, numpy=\n",
              " array([1., 1., 1., 0., 0., 1., 1., 1., 1., 0., 0., 1., 0., 0., 0., 0., 0.,\n",
              "        0., 0., 0.], dtype=float32)>,\n",
              " array([0, 0, 1, 1, 1, 1, 1, 1, 1, 0, 0, 0, 0, 0, 0, 0, 0, 0, 1, 0]))"
            ]
          },
          "metadata": {},
          "execution_count": 35
        }
      ],
      "source": [
        "model_1_pred = model_1.predict(y_train)\n",
        "model_1_pred= tf.squeeze(tf.round(model_1_pred))\n",
        "model_1_pred[:20], y_test[:20]"
      ]
    },
    {
      "cell_type": "code",
      "execution_count": 36,
      "metadata": {
        "colab": {
          "base_uri": "https://localhost:8080/"
        },
        "id": "E2vBr5dVc9Z1",
        "outputId": "8e3e232f-4014-44d5-b0bf-017b67924816"
      },
      "outputs": [
        {
          "output_type": "execute_result",
          "data": {
            "text/plain": [
              "{'model_accuracy': 0.7755905389785767,\n",
              " 'model_fscore': 0.7789816853531943,\n",
              " 'model_precession': 0.7935944538666799,\n",
              " 'model_recall': 0.7755905511811023}"
            ]
          },
          "metadata": {},
          "execution_count": 36
        }
      ],
      "source": [
        "model_1_result= performance_calculate(model_preds =model_1_pred, true_values =y_test, model_history = model_1_history)\n",
        "\n",
        "#model_1_perfom = performance_calculater(y_test,  model_1_pred)\n",
        "model_1_result"
      ]
    },
    {
      "cell_type": "code",
      "execution_count": 37,
      "metadata": {
        "colab": {
          "base_uri": "https://localhost:8080/"
        },
        "id": "hY2fhcBoV6mw",
        "outputId": "21a8dad2-2a5e-4dc9-e82c-10abaab7e146"
      },
      "outputs": [
        {
          "output_type": "execute_result",
          "data": {
            "text/plain": [
              "[<tf.Variable 'Embedding_1/embeddings:0' shape=(1000, 128) dtype=float32, numpy=\n",
              " array([[-0.00367384,  0.01771224, -0.03750538, ..., -0.04845433,\n",
              "         -0.01433756,  0.02206464],\n",
              "        [ 0.02986665, -0.03334517, -0.04502622, ..., -0.00209063,\n",
              "          0.02327286,  0.03675828],\n",
              "        [ 0.00164184,  0.05846192, -0.00399503, ..., -0.07480292,\n",
              "         -0.05088829,  0.01642789],\n",
              "        ...,\n",
              "        [ 0.01251193,  0.03076386, -0.02765299, ...,  0.00814849,\n",
              "         -0.00987025, -0.04361613],\n",
              "        [-0.05239414,  0.04548172, -0.01812511, ..., -0.07733074,\n",
              "         -0.0640303 ,  0.09204082],\n",
              "        [-0.0114245 , -0.04992867,  0.01441223, ...,  0.02289988,\n",
              "          0.06014376,  0.01224391]], dtype=float32)>]"
            ]
          },
          "metadata": {},
          "execution_count": 37
        }
      ],
      "source": [
        "embedding.weights"
      ]
    },
    {
      "cell_type": "code",
      "execution_count": 38,
      "metadata": {
        "colab": {
          "base_uri": "https://localhost:8080/"
        },
        "id": "e3EZ8m38XU7B",
        "outputId": "0cb251ff-fa4b-4ce8-e518-ebc7a400b2b5"
      },
      "outputs": [
        {
          "output_type": "stream",
          "name": "stdout",
          "text": [
            "(1000, 128)\n"
          ]
        }
      ],
      "source": [
        "embed_weights = model_1.get_layer(\"Embedding_1\").get_weights()[0]\n",
        "print(embed_weights.shape)"
      ]
    },
    {
      "cell_type": "code",
      "execution_count": 39,
      "metadata": {
        "colab": {
          "base_uri": "https://localhost:8080/"
        },
        "id": "3rzg8oLDXU91",
        "outputId": "5e974847-d1fa-4b20-ea17-af4b5f45a5e7"
      },
      "outputs": [
        {
          "output_type": "execute_result",
          "data": {
            "text/plain": [
              "array([[-0.00367384,  0.01771224, -0.03750538, ..., -0.04845433,\n",
              "        -0.01433756,  0.02206464],\n",
              "       [ 0.02986665, -0.03334517, -0.04502622, ..., -0.00209063,\n",
              "         0.02327286,  0.03675828],\n",
              "       [ 0.00164184,  0.05846192, -0.00399503, ..., -0.07480292,\n",
              "        -0.05088829,  0.01642789],\n",
              "       ...,\n",
              "       [ 0.01251193,  0.03076386, -0.02765299, ...,  0.00814849,\n",
              "        -0.00987025, -0.04361613],\n",
              "       [-0.05239414,  0.04548172, -0.01812511, ..., -0.07733074,\n",
              "        -0.0640303 ,  0.09204082],\n",
              "       [-0.0114245 , -0.04992867,  0.01441223, ...,  0.02289988,\n",
              "         0.06014376,  0.01224391]], dtype=float32)"
            ]
          },
          "metadata": {},
          "execution_count": 39
        }
      ],
      "source": [
        "embed_weights"
      ]
    },
    {
      "cell_type": "markdown",
      "metadata": {
        "id": "eW9_CsppjYBt"
      },
      "source": [
        "# Model_2 - RNN - LSTM (Long short term memory)"
      ]
    },
    {
      "cell_type": "code",
      "execution_count": 40,
      "metadata": {
        "colab": {
          "base_uri": "https://localhost:8080/"
        },
        "id": "3-OJOiSqjtna",
        "outputId": "395f4130-0fe4-4818-bae0-025eba138832"
      },
      "outputs": [
        {
          "output_type": "stream",
          "name": "stdout",
          "text": [
            "(None, 15, 128)\n",
            "(None, 48)\n",
            "(None, 1)\n"
          ]
        }
      ],
      "source": [
        "#Create the base model\n",
        "inputs= tf.keras.layers.Input(shape=(1,), dtype=\"string\")\n",
        "x= text_vectorization(inputs)\n",
        "x=embedding(x)\n",
        "print(x.shape)\n",
        "#x=tf.keras.layers.LSTM(64, return_sequences=True)(x)\n",
        "#print(x.shape)\n",
        "x=tf.keras.layers.LSTM(48)(x)\n",
        "print(x.shape)\n",
        "#x= tf.keras.layers.Dense(64, activation=\"relu\")(x)\n",
        "#print(x.shape)\n",
        "outputs=tf.keras.layers.Dense(1, activation=\"sigmoid\")(x)\n",
        "print(outputs.shape)\n",
        "model_2= tf.keras.Model(inputs, outputs, name=\"model_2_LSTM\")"
      ]
    },
    {
      "cell_type": "code",
      "execution_count": 41,
      "metadata": {
        "id": "uIEIgVWc4mAM"
      },
      "outputs": [],
      "source": [
        "#compile the model\n",
        "model_2.compile(loss=\"binary_crossentropy\",\n",
        "                optimizer= tf.keras.optimizers.Adam(),\n",
        "                metrics=[\"accuracy\"])"
      ]
    },
    {
      "cell_type": "code",
      "execution_count": 42,
      "metadata": {
        "colab": {
          "base_uri": "https://localhost:8080/"
        },
        "id": "meGeM2eP6W-0",
        "outputId": "f6e3e12a-e7e8-4ac8-a695-decf4b5b373b"
      },
      "outputs": [
        {
          "output_type": "stream",
          "name": "stdout",
          "text": [
            "Saving TensorBoard log files to: Tensorboard_for_NLP/model_2_tensorboard_weigths/Y0207/24/22 - H0218\n",
            "Epoch 1/10\n",
            "215/215 [==============================] - 5s 7ms/step - loss: 0.3989 - accuracy: 0.8253 - val_loss: 0.5002 - val_accuracy: 0.7717\n",
            "Epoch 2/10\n",
            "215/215 [==============================] - 1s 5ms/step - loss: 0.3667 - accuracy: 0.8416 - val_loss: 0.4958 - val_accuracy: 0.7782\n",
            "Epoch 3/10\n",
            "215/215 [==============================] - 1s 5ms/step - loss: 0.3578 - accuracy: 0.8441 - val_loss: 0.5131 - val_accuracy: 0.7677\n",
            "Epoch 4/10\n",
            "215/215 [==============================] - 1s 5ms/step - loss: 0.3513 - accuracy: 0.8499 - val_loss: 0.5152 - val_accuracy: 0.7664\n",
            "Epoch 5/10\n",
            "215/215 [==============================] - 1s 5ms/step - loss: 0.3332 - accuracy: 0.8551 - val_loss: 0.5409 - val_accuracy: 0.7769\n",
            "Epoch 6/10\n",
            "215/215 [==============================] - 1s 6ms/step - loss: 0.3097 - accuracy: 0.8680 - val_loss: 0.5611 - val_accuracy: 0.7743\n",
            "Epoch 7/10\n",
            "215/215 [==============================] - 1s 5ms/step - loss: 0.2865 - accuracy: 0.8797 - val_loss: 0.5977 - val_accuracy: 0.7638\n",
            "Epoch 8/10\n",
            "215/215 [==============================] - 1s 5ms/step - loss: 0.2629 - accuracy: 0.8897 - val_loss: 0.6518 - val_accuracy: 0.7559\n",
            "Epoch 9/10\n",
            "215/215 [==============================] - 1s 6ms/step - loss: 0.2458 - accuracy: 0.8946 - val_loss: 0.7045 - val_accuracy: 0.7507\n",
            "Epoch 10/10\n",
            "215/215 [==============================] - 1s 5ms/step - loss: 0.2265 - accuracy: 0.9031 - val_loss: 0.8358 - val_accuracy: 0.7572\n"
          ]
        }
      ],
      "source": [
        "#fit the model\n",
        "model_2_history= model_2.fit(x_train, x_test,\n",
        "                             epochs=10,\n",
        "                             validation_data= (y_train, y_test),\n",
        "                             callbacks= [create_tensorboard_callback(\"Tensorboard_for_NLP\", \n",
        "                                                                     \"model_2_tensorboard_weigths\")])"
      ]
    },
    {
      "cell_type": "code",
      "execution_count": 43,
      "metadata": {
        "colab": {
          "base_uri": "https://localhost:8080/"
        },
        "id": "6y53_SiQ8Bp6",
        "outputId": "97626263-f8b7-4f09-c1e5-00cc16084753"
      },
      "outputs": [
        {
          "output_type": "execute_result",
          "data": {
            "text/plain": [
              "(array([[0.9388378 ],\n",
              "        [0.5146547 ],\n",
              "        [0.992191  ],\n",
              "        [0.01908536],\n",
              "        [0.0704689 ],\n",
              "        [0.99971634],\n",
              "        [0.9987834 ],\n",
              "        [0.98244023],\n",
              "        [0.5522727 ],\n",
              "        [0.07509224]], dtype=float32), (762, 1))"
            ]
          },
          "metadata": {},
          "execution_count": 43
        }
      ],
      "source": [
        "model_2_preds= model_2.predict(y_train)\n",
        "model_2_preds[:10], model_2_preds.shape"
      ]
    },
    {
      "cell_type": "code",
      "execution_count": 44,
      "metadata": {
        "colab": {
          "base_uri": "https://localhost:8080/"
        },
        "id": "VoaN4VD78Bsh",
        "outputId": "e24bdb61-248d-470d-93a3-bdbab35b161f"
      },
      "outputs": [
        {
          "output_type": "execute_result",
          "data": {
            "text/plain": [
              "(<tf.Tensor: shape=(10,), dtype=float32, numpy=array([1., 1., 1., 0., 0., 1., 1., 1., 1., 0.], dtype=float32)>,\n",
              " array([0, 0, 1, 1, 1, 1, 1, 1, 1, 0]))"
            ]
          },
          "metadata": {},
          "execution_count": 44
        }
      ],
      "source": [
        "model_2_preds= tf.squeeze(tf.round(model_2_preds))\n",
        "model_2_preds[:10], y_test[:10]"
      ]
    },
    {
      "cell_type": "code",
      "execution_count": 45,
      "metadata": {
        "colab": {
          "base_uri": "https://localhost:8080/"
        },
        "id": "KqzbPAT-g8Wm",
        "outputId": "bf240752-71cb-4682-a4ef-24ddf8a73926"
      },
      "outputs": [
        {
          "output_type": "execute_result",
          "data": {
            "text/plain": [
              "{'model_accuracy': 0.7572178244590759,\n",
              " 'model_fscore': 0.7592185404081537,\n",
              " 'model_precession': 0.7660259983743912,\n",
              " 'model_recall': 0.7572178477690289}"
            ]
          },
          "metadata": {},
          "execution_count": 45
        }
      ],
      "source": [
        "model_2_result= performance_calculate(model_2_preds, y_test, model_2_history)\n",
        "model_2_result"
      ]
    },
    {
      "cell_type": "markdown",
      "metadata": {
        "id": "vt5Z0Kdygjxw"
      },
      "source": [
        "# Model_3 (GRU + RNN)"
      ]
    },
    {
      "cell_type": "code",
      "execution_count": 46,
      "metadata": {
        "colab": {
          "base_uri": "https://localhost:8080/"
        },
        "id": "EiJsgWMKYX6w",
        "outputId": "4ac6e0f5-2dff-4a2f-fb15-33f8ab49de7f"
      },
      "outputs": [
        {
          "output_type": "stream",
          "name": "stdout",
          "text": [
            "(None, 15, 128)\n",
            "(None, 8)\n"
          ]
        }
      ],
      "source": [
        "#Creating base model for Model_3\n",
        "inputs= tf.keras.layers.Input(shape=(1,), dtype=\"string\")\n",
        "x= text_vectorization(inputs)\n",
        "x= embedding(x)\n",
        "print(x.shape)\n",
        "x= tf.keras.layers.GRU(8)(x)\n",
        "print(x.shape)\n",
        "outputs=tf.keras.layers.Dense(1, activation= \"sigmoid\")(x)\n",
        "model_3=tf.keras.Model(inputs, outputs)"
      ]
    },
    {
      "cell_type": "code",
      "execution_count": 47,
      "metadata": {
        "colab": {
          "base_uri": "https://localhost:8080/"
        },
        "id": "5ea0Qj0tuSDf",
        "outputId": "6c32b7b4-499b-43c5-8bcd-c9dea3c7480b"
      },
      "outputs": [
        {
          "output_type": "stream",
          "name": "stdout",
          "text": [
            "Model: \"model\"\n",
            "_________________________________________________________________\n",
            " Layer (type)                Output Shape              Param #   \n",
            "=================================================================\n",
            " input_3 (InputLayer)        [(None, 1)]               0         \n",
            "                                                                 \n",
            " text_vectorization_1 (TextV  (None, 15)               0         \n",
            " ectorization)                                                   \n",
            "                                                                 \n",
            " Embedding_1 (Embedding)     (None, 15, 128)           128000    \n",
            "                                                                 \n",
            " gru (GRU)                   (None, 8)                 3312      \n",
            "                                                                 \n",
            " dense_2 (Dense)             (None, 1)                 9         \n",
            "                                                                 \n",
            "=================================================================\n",
            "Total params: 131,321\n",
            "Trainable params: 131,321\n",
            "Non-trainable params: 0\n",
            "_________________________________________________________________\n"
          ]
        }
      ],
      "source": [
        "model_3.summary()"
      ]
    },
    {
      "cell_type": "code",
      "execution_count": 48,
      "metadata": {
        "id": "5pUJ5ncQuSGW"
      },
      "outputs": [],
      "source": [
        "#compile the model\n",
        "model_3.compile(loss= \"binary_crossentropy\",\n",
        "                optimizer=tf.keras.optimizers.Adam(),\n",
        "                metrics=[\"accuracy\"])"
      ]
    },
    {
      "cell_type": "code",
      "execution_count": 49,
      "metadata": {
        "colab": {
          "base_uri": "https://localhost:8080/"
        },
        "id": "LcdjYEdSvlSy",
        "outputId": "462da432-e9ca-4459-e68a-77f7c0d71f48"
      },
      "outputs": [
        {
          "output_type": "stream",
          "name": "stdout",
          "text": [
            "Saving TensorBoard log files to: Tensorboard_for_NLP/model_3_tensorboard_weights/Y0207/24/22 - H0235\n",
            "Epoch 1/5\n",
            "215/215 [==============================] - 3s 7ms/step - loss: 0.5363 - accuracy: 0.7358 - val_loss: 0.5087 - val_accuracy: 0.7717\n",
            "Epoch 2/5\n",
            "215/215 [==============================] - 1s 5ms/step - loss: 0.3722 - accuracy: 0.8467 - val_loss: 0.5103 - val_accuracy: 0.7730\n",
            "Epoch 3/5\n",
            "215/215 [==============================] - 1s 5ms/step - loss: 0.3400 - accuracy: 0.8662 - val_loss: 0.5188 - val_accuracy: 0.7730\n",
            "Epoch 4/5\n",
            "215/215 [==============================] - 1s 5ms/step - loss: 0.3164 - accuracy: 0.8821 - val_loss: 0.5445 - val_accuracy: 0.7625\n",
            "Epoch 5/5\n",
            "215/215 [==============================] - 1s 5ms/step - loss: 0.2964 - accuracy: 0.8888 - val_loss: 0.5573 - val_accuracy: 0.7585\n"
          ]
        }
      ],
      "source": [
        "#fit the model\n",
        "model_3_history= model_3.fit(x_train, x_test,\n",
        "                             validation_data=(y_train,y_test),\n",
        "                             epochs=5,\n",
        "                             callbacks=[create_tensorboard_callback(\"Tensorboard_for_NLP\", \"model_3_tensorboard_weights\")])"
      ]
    },
    {
      "cell_type": "code",
      "execution_count": 50,
      "metadata": {
        "colab": {
          "base_uri": "https://localhost:8080/"
        },
        "id": "PLaykPFF0EWw",
        "outputId": "d4ff1f1b-760a-450f-afa9-4d64f4253ef3"
      },
      "outputs": [
        {
          "output_type": "execute_result",
          "data": {
            "text/plain": [
              "array([[0.77231354],\n",
              "       [0.7262611 ],\n",
              "       [0.97145545],\n",
              "       [0.0720992 ],\n",
              "       [0.05980281]], dtype=float32)"
            ]
          },
          "metadata": {},
          "execution_count": 50
        }
      ],
      "source": [
        "model_3_pred= model_3.predict(y_train)\n",
        "model_3_pred[:5]"
      ]
    },
    {
      "cell_type": "code",
      "execution_count": 51,
      "metadata": {
        "colab": {
          "base_uri": "https://localhost:8080/"
        },
        "id": "BN7b7qPqyJFE",
        "outputId": "59e7499d-e6a4-499e-8b5e-f23503196015"
      },
      "outputs": [
        {
          "output_type": "execute_result",
          "data": {
            "text/plain": [
              "(<tf.Tensor: shape=(10,), dtype=float32, numpy=array([1., 1., 1., 0., 0., 1., 1., 1., 1., 0.], dtype=float32)>,\n",
              " array([0, 0, 1, 1, 1, 1, 1, 1, 1, 0]))"
            ]
          },
          "metadata": {},
          "execution_count": 51
        }
      ],
      "source": [
        "model_3_pred= tf.squeeze(tf.round(model_3_pred))\n",
        "model_3_pred[:10], y_test[:10]"
      ]
    },
    {
      "cell_type": "code",
      "execution_count": 52,
      "metadata": {
        "colab": {
          "base_uri": "https://localhost:8080/"
        },
        "id": "YmNZNYVd1qR2",
        "outputId": "4dcdb9b0-1025-4add-ce0f-9803df3cf0b9"
      },
      "outputs": [
        {
          "output_type": "execute_result",
          "data": {
            "text/plain": [
              "{'model_accuracy': 0.7585301995277405,\n",
              " 'model_fscore': 0.7595396489312094,\n",
              " 'model_precession': 0.7623142715606326,\n",
              " 'model_recall': 0.7585301837270341}"
            ]
          },
          "metadata": {},
          "execution_count": 52
        }
      ],
      "source": [
        "model_3_result= performance_calculate(model_3_pred, y_test, model_3_history) \n",
        "model_3_result"
      ]
    },
    {
      "cell_type": "markdown",
      "metadata": {
        "id": "kedTYUiLrjQ-"
      },
      "source": [
        "# Model_4 (NLP + Bidirectional)"
      ]
    },
    {
      "cell_type": "code",
      "execution_count": 53,
      "metadata": {
        "colab": {
          "base_uri": "https://localhost:8080/"
        },
        "id": "v8Rp727k2Aiu",
        "outputId": "c92740e8-025f-4f01-c9d2-c508a748261b"
      },
      "outputs": [
        {
          "output_type": "stream",
          "name": "stdout",
          "text": [
            "(None, 128)\n"
          ]
        }
      ],
      "source": [
        "import tensorflow as tf\n",
        "from tensorflow.keras.layers import LSTM\n",
        "\n",
        "inputs= tf.keras.layers.Input(shape=(1,), dtype=\"string\")\n",
        "x= text_vectorization(inputs)\n",
        "x= embedding(x)\n",
        "x= tf.keras.layers.Bidirectional(tf.keras.layers.LSTM(64, return_sequences= True))(x)\n",
        "x=tf.keras.layers.GlobalAveragePooling1D()(x)\n",
        "print(x.shape)\n",
        "outputs=tf.keras.layers.Dense(1, activation=\"sigmoid\")(x)\n",
        "model_4= tf.keras.Model(inputs, outputs, name= \"model_4_Bidirectional\")\n"
      ]
    },
    {
      "cell_type": "code",
      "execution_count": 54,
      "metadata": {
        "colab": {
          "base_uri": "https://localhost:8080/"
        },
        "id": "Iv16ADql1qUr",
        "outputId": "9d44d0b6-3f33-4cc0-e734-9198dadd3c8d"
      },
      "outputs": [
        {
          "output_type": "stream",
          "name": "stdout",
          "text": [
            "Model: \"model_4_Bidirectional\"\n",
            "_________________________________________________________________\n",
            " Layer (type)                Output Shape              Param #   \n",
            "=================================================================\n",
            " input_4 (InputLayer)        [(None, 1)]               0         \n",
            "                                                                 \n",
            " text_vectorization_1 (TextV  (None, 15)               0         \n",
            " ectorization)                                                   \n",
            "                                                                 \n",
            " Embedding_1 (Embedding)     (None, 15, 128)           128000    \n",
            "                                                                 \n",
            " bidirectional (Bidirectiona  (None, 15, 128)          98816     \n",
            " l)                                                              \n",
            "                                                                 \n",
            " global_average_pooling1d_1   (None, 128)              0         \n",
            " (GlobalAveragePooling1D)                                        \n",
            "                                                                 \n",
            " dense_3 (Dense)             (None, 1)                 129       \n",
            "                                                                 \n",
            "=================================================================\n",
            "Total params: 226,945\n",
            "Trainable params: 226,945\n",
            "Non-trainable params: 0\n",
            "_________________________________________________________________\n"
          ]
        }
      ],
      "source": [
        "model_4.summary()"
      ]
    },
    {
      "cell_type": "code",
      "execution_count": 55,
      "metadata": {
        "id": "whIUBUIjw5wb"
      },
      "outputs": [],
      "source": [
        "#compile the model\n",
        "model_4.compile(loss=\"binary_crossentropy\",\n",
        "                optimizer=tf.keras.optimizers.Adam(),\n",
        "                metrics=[\"accuracy\"])\n"
      ]
    },
    {
      "cell_type": "code",
      "execution_count": 56,
      "metadata": {
        "colab": {
          "base_uri": "https://localhost:8080/"
        },
        "id": "Yvg0_7n001dZ",
        "outputId": "7bd9608c-8062-424b-c016-e3c3e40bdea0"
      },
      "outputs": [
        {
          "output_type": "stream",
          "name": "stdout",
          "text": [
            "Saving TensorBoard log files to: Tensorboard_for_NLP/model_2_tensorboard_weights/Y0207/24/22 - H0243\n",
            "Epoch 1/6\n",
            "215/215 [==============================] - 5s 11ms/step - loss: 0.3565 - accuracy: 0.8574 - val_loss: 0.6009 - val_accuracy: 0.7559\n",
            "Epoch 2/6\n",
            "215/215 [==============================] - 2s 7ms/step - loss: 0.2935 - accuracy: 0.8805 - val_loss: 0.6267 - val_accuracy: 0.7520\n",
            "Epoch 3/6\n",
            "215/215 [==============================] - 2s 8ms/step - loss: 0.2604 - accuracy: 0.8948 - val_loss: 0.7024 - val_accuracy: 0.7415\n",
            "Epoch 4/6\n",
            "215/215 [==============================] - 2s 7ms/step - loss: 0.2405 - accuracy: 0.9047 - val_loss: 0.7231 - val_accuracy: 0.7598\n",
            "Epoch 5/6\n",
            "215/215 [==============================] - 2s 8ms/step - loss: 0.2170 - accuracy: 0.9134 - val_loss: 0.7881 - val_accuracy: 0.7323\n",
            "Epoch 6/6\n",
            "215/215 [==============================] - 2s 8ms/step - loss: 0.2043 - accuracy: 0.9156 - val_loss: 0.8662 - val_accuracy: 0.7533\n"
          ]
        }
      ],
      "source": [
        "#Fit the model\n",
        "model_4_history= model_4.fit(x_train, x_test,\n",
        "                             validation_data=(y_train, y_test),\n",
        "                             epochs=6,\n",
        "                             callbacks=[create_tensorboard_callback(\"Tensorboard_for_NLP\", \"model_2_tensorboard_weights\")]\n",
        "                             ) "
      ]
    },
    {
      "cell_type": "code",
      "execution_count": 57,
      "metadata": {
        "colab": {
          "base_uri": "https://localhost:8080/"
        },
        "id": "3sCa2wVx22or",
        "outputId": "e30db3ac-8e6b-4605-8bca-554fb4702b16"
      },
      "outputs": [
        {
          "output_type": "execute_result",
          "data": {
            "text/plain": [
              "(<tf.Tensor: shape=(10,), dtype=float32, numpy=array([1., 1., 1., 0., 0., 1., 1., 1., 1., 0.], dtype=float32)>,\n",
              " array([0, 0, 1, 1, 1, 1, 1, 1, 1, 0]))"
            ]
          },
          "metadata": {},
          "execution_count": 57
        }
      ],
      "source": [
        "model_4_preds = model_4.predict(y_train)\n",
        "model_4_preds = tf.squeeze(model_4_preds)\n",
        "\n",
        "model_4_preds = tf.round(model_4_preds)\n",
        "model_4_preds[:10], y_test[:10]"
      ]
    },
    {
      "cell_type": "code",
      "execution_count": 58,
      "metadata": {
        "colab": {
          "base_uri": "https://localhost:8080/"
        },
        "id": "PX06NV0UCNfG",
        "outputId": "4d786a0d-a268-41b1-dfad-7c695bbd613f"
      },
      "outputs": [
        {
          "output_type": "execute_result",
          "data": {
            "text/plain": [
              "{'model_accuracy': 0.7532808184623718,\n",
              " 'model_fscore': 0.754750837203943,\n",
              " 'model_precession': 0.7592141156018666,\n",
              " 'model_recall': 0.7532808398950132}"
            ]
          },
          "metadata": {},
          "execution_count": 58
        }
      ],
      "source": [
        "model_4_result= performance_calculate(model_4_preds, y_test, model_4_history)\n",
        "model_4_result"
      ]
    },
    {
      "cell_type": "markdown",
      "metadata": {
        "id": "20dlXkuVvdCw"
      },
      "source": [
        "# Model_5 (Conv1D)\n",
        "https://poloclub.github.io/cnn-explainer/"
      ]
    },
    {
      "cell_type": "code",
      "execution_count": 59,
      "metadata": {
        "colab": {
          "base_uri": "https://localhost:8080/"
        },
        "id": "mibkJVOYvlh4",
        "outputId": "9908bd14-1ac4-49df-b809-96cb8db3a208"
      },
      "outputs": [
        {
          "output_type": "execute_result",
          "data": {
            "text/plain": [
              "(TensorShape([1, 15, 128]),)"
            ]
          },
          "metadata": {},
          "execution_count": 59
        }
      ],
      "source": [
        "embedding_test= embedding(text_vectorization([\"I love Tesnforflow.\"]))\n",
        "#for more understanding - https://poloclub.github.io/cnn-explainer/\n",
        "\n",
        "Conv1D_layer = tf.keras.layers.Conv1D(filters=32,\n",
        "                                      kernel_size=5, # size of a convolutional filter\n",
        "                                      strides=1, #number of stpes \n",
        "                                      activation=\"relu\",\n",
        "                                      padding=\"same\"\n",
        "                                      )\n",
        "\n",
        "Conv1D_output = Conv1D_layer(embedding_test)\n",
        "max_pool_output = tf.keras.layers.GlobalAveragePooling1D()(Conv1D_output)\n",
        "\n",
        "\n",
        "embedding_test.shape, "
      ]
    },
    {
      "cell_type": "code",
      "execution_count": 60,
      "metadata": {
        "colab": {
          "base_uri": "https://localhost:8080/"
        },
        "id": "FsSChmvhwX4R",
        "outputId": "9d6c4e62-85ec-4e71-d307-6fb2782c7347"
      },
      "outputs": [
        {
          "output_type": "execute_result",
          "data": {
            "text/plain": [
              "<tf.Tensor: shape=(1, 32), dtype=float32, numpy=\n",
              "array([[9.38796625e-03, 9.62223783e-02, 7.40988702e-02, 4.44302782e-02,\n",
              "        1.39521761e-03, 2.49226674e-01, 1.21360816e-01, 1.15873460e-02,\n",
              "        1.83114007e-01, 9.68049765e-02, 2.05224957e-02, 1.22708790e-01,\n",
              "        9.97938868e-03, 1.33754630e-02, 3.66064683e-02, 3.24512459e-02,\n",
              "        5.38922206e-04, 4.61964831e-02, 1.26883695e-02, 2.73984019e-02,\n",
              "        1.71881571e-01, 6.66239336e-02, 9.79726519e-06, 6.69479789e-03,\n",
              "        3.32875326e-02, 3.33967172e-02, 1.02681341e-02, 3.62717621e-02,\n",
              "        1.15089051e-01, 3.30434628e-02, 9.54377092e-03, 2.69793756e-02]],\n",
              "      dtype=float32)>"
            ]
          },
          "metadata": {},
          "execution_count": 60
        }
      ],
      "source": [
        "max_pool_output"
      ]
    },
    {
      "cell_type": "code",
      "execution_count": 61,
      "metadata": {
        "id": "d1S5QPe6w4Pi"
      },
      "outputs": [],
      "source": [
        "from tensorflow.python.ops.gen_math_ops import xlog1py_eager_fallback\n",
        "\n",
        "inputs= tf.keras.layers.Input(shape =(1,), dtype=\"string\")\n",
        "x=text_vectorization(inputs)\n",
        "x= embedding(x)\n",
        "\n",
        "x = tf.keras.layers.Conv1D(filters=32,\n",
        "                               kernel_size=3,\n",
        "                               strides=1,\n",
        "                               activation=\"relu\",\n",
        "                               padding=\"same\"\n",
        "                               )(x)\n",
        "x= tf.keras.layers.GlobalAveragePooling1D()(x)\n",
        "outputs= tf.keras.layers.Dense(1, activation=\"sigmoid\")(x)\n",
        "model_5= tf.keras.Model(inputs, outputs, name=\"Model_5_Conv1D\")"
      ]
    },
    {
      "cell_type": "code",
      "execution_count": 62,
      "metadata": {
        "colab": {
          "base_uri": "https://localhost:8080/"
        },
        "id": "1oZUuaErKF8n",
        "outputId": "75497ad0-5458-4730-b423-e304cf161a62"
      },
      "outputs": [
        {
          "output_type": "stream",
          "name": "stdout",
          "text": [
            "Model: \"Model_5_Conv1D\"\n",
            "_________________________________________________________________\n",
            " Layer (type)                Output Shape              Param #   \n",
            "=================================================================\n",
            " input_5 (InputLayer)        [(None, 1)]               0         \n",
            "                                                                 \n",
            " text_vectorization_1 (TextV  (None, 15)               0         \n",
            " ectorization)                                                   \n",
            "                                                                 \n",
            " Embedding_1 (Embedding)     (None, 15, 128)           128000    \n",
            "                                                                 \n",
            " conv1d_1 (Conv1D)           (None, 15, 32)            12320     \n",
            "                                                                 \n",
            " global_average_pooling1d_3   (None, 32)               0         \n",
            " (GlobalAveragePooling1D)                                        \n",
            "                                                                 \n",
            " dense_4 (Dense)             (None, 1)                 33        \n",
            "                                                                 \n",
            "=================================================================\n",
            "Total params: 140,353\n",
            "Trainable params: 140,353\n",
            "Non-trainable params: 0\n",
            "_________________________________________________________________\n"
          ]
        }
      ],
      "source": [
        "model_5.summary()"
      ]
    },
    {
      "cell_type": "code",
      "execution_count": 63,
      "metadata": {
        "id": "-Ly5wFMeF51l"
      },
      "outputs": [],
      "source": [
        "#compile the model\n",
        "model_5.compile(loss =\"binary_crossentropy\",\n",
        "                optimizer= tf.keras.optimizers.Adam(),\n",
        "                metrics =[\"accuracy\"])"
      ]
    },
    {
      "cell_type": "code",
      "execution_count": 64,
      "metadata": {
        "colab": {
          "base_uri": "https://localhost:8080/"
        },
        "id": "SH0TzSmJF54A",
        "outputId": "9ddf26e1-f00e-43fb-92ef-0417db65dcbc"
      },
      "outputs": [
        {
          "output_type": "stream",
          "name": "stdout",
          "text": [
            "Saving TensorBoard log files to: Tensorboard_for_NLP/model_5_tensorboard_weigths/Y0307/24/22 - H0304\n",
            "Epoch 1/5\n",
            "215/215 [==============================] - 3s 5ms/step - loss: 0.4028 - accuracy: 0.8281 - val_loss: 0.5234 - val_accuracy: 0.7730\n",
            "Epoch 2/5\n",
            "215/215 [==============================] - 1s 4ms/step - loss: 0.3547 - accuracy: 0.8475 - val_loss: 0.5475 - val_accuracy: 0.7703\n",
            "Epoch 3/5\n",
            "215/215 [==============================] - 1s 4ms/step - loss: 0.3457 - accuracy: 0.8488 - val_loss: 0.5510 - val_accuracy: 0.7638\n",
            "Epoch 4/5\n",
            "215/215 [==============================] - 1s 4ms/step - loss: 0.3409 - accuracy: 0.8518 - val_loss: 0.5591 - val_accuracy: 0.7651\n",
            "Epoch 5/5\n",
            "215/215 [==============================] - 1s 4ms/step - loss: 0.3324 - accuracy: 0.8548 - val_loss: 0.5663 - val_accuracy: 0.7598\n"
          ]
        }
      ],
      "source": [
        "#Fit the model\n",
        "model_5_history= model_5.fit(x_train, x_test,\n",
        "                             validation_data = (y_train, y_test),\n",
        "                             epochs=5,\n",
        "                             callbacks=[create_tensorboard_callback(\"Tensorboard_for_NLP\", \"model_5_tensorboard_weigths\")] \n",
        "                             ) "
      ]
    },
    {
      "cell_type": "code",
      "execution_count": 65,
      "metadata": {
        "colab": {
          "base_uri": "https://localhost:8080/"
        },
        "id": "wh1_1luZF56j",
        "outputId": "b8b3a6e0-06ad-4fce-a208-8c33a2a2d568"
      },
      "outputs": [
        {
          "output_type": "execute_result",
          "data": {
            "text/plain": [
              "array([[0.87672883],\n",
              "       [0.6330468 ],\n",
              "       [0.994261  ],\n",
              "       [0.0662721 ],\n",
              "       [0.04215106],\n",
              "       [0.9967372 ],\n",
              "       [0.81864935],\n",
              "       [0.9335707 ],\n",
              "       [0.5056435 ],\n",
              "       [0.21874504]], dtype=float32)"
            ]
          },
          "metadata": {},
          "execution_count": 65
        }
      ],
      "source": [
        "model_5_preds = model_5.predict(y_train)\n",
        "model_5_preds[:10]"
      ]
    },
    {
      "cell_type": "code",
      "execution_count": 66,
      "metadata": {
        "id": "1bexzq9DHYcI"
      },
      "outputs": [],
      "source": [
        "model_5_preds  = tf.round(tf.squeeze(model_5_preds))"
      ]
    },
    {
      "cell_type": "code",
      "execution_count": 67,
      "metadata": {
        "colab": {
          "base_uri": "https://localhost:8080/"
        },
        "id": "J_9WqOHIHYfP",
        "outputId": "6237432a-b75a-4b93-abd9-18281d20114e"
      },
      "outputs": [
        {
          "output_type": "execute_result",
          "data": {
            "text/plain": [
              "(<tf.Tensor: shape=(10,), dtype=float32, numpy=array([1., 1., 1., 0., 0., 1., 1., 1., 1., 0.], dtype=float32)>,\n",
              " array([0, 0, 1, 1, 1, 1, 1, 1, 1, 0]))"
            ]
          },
          "metadata": {},
          "execution_count": 67
        }
      ],
      "source": [
        "model_5_preds[:10], y_test[:10]"
      ]
    },
    {
      "cell_type": "code",
      "execution_count": 68,
      "metadata": {
        "colab": {
          "base_uri": "https://localhost:8080/"
        },
        "id": "-5W4k3KvLgLQ",
        "outputId": "689b6039-1c89-4ed2-a673-2ee5a534365a"
      },
      "outputs": [
        {
          "output_type": "execute_result",
          "data": {
            "text/plain": [
              "{'model_accuracy': 0.7598425149917603,\n",
              " 'model_fscore': 0.764000049048374,\n",
              " 'model_precession': 0.7812428540760241,\n",
              " 'model_recall': 0.7598425196850394}"
            ]
          },
          "metadata": {},
          "execution_count": 68
        }
      ],
      "source": [
        "model_5_result= performance_calculate(model_5_preds, y_test, model_5_history)\n",
        "model_5_result"
      ]
    },
    {
      "cell_type": "markdown",
      "metadata": {
        "id": "zrYpjsBYjq-y"
      },
      "source": [
        "# Model_6_ (Using Pretrained Embeddings (transfer learning for NLP)\n",
        "\n",
        "We can load in a TensorFlow Hub module using the hub.load() method and passing it the target URL of the module we'd like to use, in our case, it's \"https://tfhub.dev/google/universal-sentence-encoder/4\"."
      ]
    },
    {
      "cell_type": "code",
      "execution_count": 69,
      "metadata": {
        "id": "EEVhYdYxsPHt"
      },
      "outputs": [],
      "source": [
        "samples_sentence= \"I love Tensoflow\"\n",
        "import tensorflow_hub as hub\n",
        "embed= hub.load(\"https://tfhub.dev/google/universal-sentence-encoder/4\")\n",
        "\n",
        "embedded_samples= embed([samples_sentence])"
      ]
    },
    {
      "cell_type": "code",
      "execution_count": 70,
      "metadata": {
        "colab": {
          "base_uri": "https://localhost:8080/"
        },
        "id": "eX0fPG0JqZ5j",
        "outputId": "e8a8b390-a97b-4041-9774-df5bf5587e18"
      },
      "outputs": [
        {
          "output_type": "execute_result",
          "data": {
            "text/plain": [
              "TensorShape([512])"
            ]
          },
          "metadata": {},
          "execution_count": 70
        }
      ],
      "source": [
        "embedded_samples[0].shape"
      ]
    },
    {
      "cell_type": "code",
      "execution_count": 71,
      "metadata": {
        "id": "wpULSLl8sqJ-"
      },
      "outputs": [],
      "source": [
        "#Creating the Keras layer uning pretrained layer from tensorflow hub\n",
        "sentence_encoder_layer= hub.KerasLayer(\"https://tfhub.dev/google/universal-sentence-encoder/4\",\n",
        "                                        input_shape=[],\n",
        "                                        dtype=tf.string,\n",
        "                                        trainable=False,\n",
        "                                        name=\"USE\"\n",
        "                                        )"
      ]
    },
    {
      "cell_type": "code",
      "execution_count": 72,
      "metadata": {
        "colab": {
          "base_uri": "https://localhost:8080/"
        },
        "id": "WWzHaDbvsqMW",
        "outputId": "63fc87f8-f211-4007-efe5-85801d7c7474"
      },
      "outputs": [
        {
          "output_type": "stream",
          "name": "stdout",
          "text": [
            "Model: \"model_6_USE\"\n",
            "_________________________________________________________________\n",
            " Layer (type)                Output Shape              Param #   \n",
            "=================================================================\n",
            " USE (KerasLayer)            (None, 512)               256797824 \n",
            "                                                                 \n",
            " dense_5 (Dense)             (None, 128)               65664     \n",
            "                                                                 \n",
            " dense_6 (Dense)             (None, 1)                 129       \n",
            "                                                                 \n",
            "=================================================================\n",
            "Total params: 256,863,617\n",
            "Trainable params: 65,793\n",
            "Non-trainable params: 256,797,824\n",
            "_________________________________________________________________\n"
          ]
        }
      ],
      "source": [
        "#create the model using Sequintial API\n",
        "model_6= tf.keras.Sequential([\n",
        "                            sentence_encoder_layer,\n",
        "                            tf.keras.layers.Dense(128, activation= \"relu\"), #he convert -values in 0 & +Values as it's\n",
        "                            tf.keras.layers.Dense(1, activation = \"sigmoid\")], #sigmoid convert values into 0 & 1\n",
        "                             name=\"model_6_USE\")\n",
        "\n",
        "#Compile the model\n",
        "model_6.compile(loss=\"binary_crossentropy\",\n",
        "                optimizer= tf.keras.optimizers.Adam(),\n",
        "                metrics=[\"accuracy\"])\n",
        "\n",
        "model_6.summary()"
      ]
    },
    {
      "cell_type": "code",
      "execution_count": 73,
      "metadata": {
        "colab": {
          "base_uri": "https://localhost:8080/"
        },
        "id": "Mhw3FSz_sqO3",
        "outputId": "1873bb18-2f52-433f-f807-23226e8e580f"
      },
      "outputs": [
        {
          "output_type": "stream",
          "name": "stdout",
          "text": [
            "Saving TensorBoard log files to: Tensorboard_for_NLP/model_6_weights_tensorboard/Y0307/24/22 - H0336\n",
            "Epoch 1/5\n",
            "215/215 [==============================] - 5s 13ms/step - loss: 0.4869 - accuracy: 0.7894 - val_loss: 0.4425 - val_accuracy: 0.8005\n",
            "Epoch 2/5\n",
            "215/215 [==============================] - 2s 11ms/step - loss: 0.4093 - accuracy: 0.8154 - val_loss: 0.4296 - val_accuracy: 0.8163\n",
            "Epoch 3/5\n",
            "215/215 [==============================] - 2s 10ms/step - loss: 0.3937 - accuracy: 0.8257 - val_loss: 0.4261 - val_accuracy: 0.8163\n",
            "Epoch 4/5\n",
            "215/215 [==============================] - 2s 11ms/step - loss: 0.3837 - accuracy: 0.8300 - val_loss: 0.4214 - val_accuracy: 0.8150\n",
            "Epoch 5/5\n",
            "215/215 [==============================] - 2s 10ms/step - loss: 0.3734 - accuracy: 0.8387 - val_loss: 0.4253 - val_accuracy: 0.8189\n"
          ]
        }
      ],
      "source": [
        "#fit the model\n",
        "\n",
        "model_6_history= model_6.fit(x_train,x_test,\n",
        "                             validation_data=(y_train, y_test),\n",
        "                             epochs=5,\n",
        "                             callbacks=[create_tensorboard_callback(\"Tensorboard_for_NLP\", \"model_6_weights_tensorboard\")]\n",
        "                          \n",
        "      \n",
        "                             )"
      ]
    },
    {
      "cell_type": "code",
      "execution_count": 74,
      "metadata": {
        "colab": {
          "base_uri": "https://localhost:8080/"
        },
        "id": "h4yWk8DczEcM",
        "outputId": "9e0010ab-f2cf-4615-a895-8e0e18c71fa4"
      },
      "outputs": [
        {
          "output_type": "execute_result",
          "data": {
            "text/plain": [
              "(<tf.Tensor: shape=(10,), dtype=float32, numpy=array([0., 1., 1., 0., 1., 1., 1., 1., 1., 0.], dtype=float32)>,\n",
              " array([0, 0, 1, 1, 1, 1, 1, 1, 1, 0]))"
            ]
          },
          "metadata": {},
          "execution_count": 74
        }
      ],
      "source": [
        "model_6_preds = model_6.predict(y_train)\n",
        "model_6_preds = tf.round(tf.squeeze(model_6_preds))\n",
        "model_6_preds[:10], y_test[:10]"
      ]
    },
    {
      "cell_type": "code",
      "execution_count": 75,
      "metadata": {
        "colab": {
          "base_uri": "https://localhost:8080/"
        },
        "id": "L6Jp86UAsqRi",
        "outputId": "041c9cd7-6705-48bb-dd07-9aa35f74dc3d"
      },
      "outputs": [
        {
          "output_type": "execute_result",
          "data": {
            "text/plain": [
              "{'model_accuracy': 0.8188976645469666,\n",
              " 'model_fscore': 0.8205400235901686,\n",
              " 'model_precession': 0.8281493548938565,\n",
              " 'model_recall': 0.8188976377952756}"
            ]
          },
          "metadata": {},
          "execution_count": 75
        }
      ],
      "source": [
        "model_6_result= performance_calculate(model_6_preds, y_test, model_6_history)\n",
        "model_6_result"
      ]
    },
    {
      "cell_type": "markdown",
      "metadata": {
        "id": "vF81CODupV0n"
      },
      "source": [
        "# Model_7 - Working_with_10%_of_data + (clone_model)"
      ]
    },
    {
      "cell_type": "code",
      "execution_count": 76,
      "metadata": {
        "colab": {
          "base_uri": "https://localhost:8080/"
        },
        "id": "WhZiwvdQn4d3",
        "outputId": "63da307b-557c-4a44-b68d-fc0a0540e3e1"
      },
      "outputs": [
        {
          "output_type": "stream",
          "name": "stdout",
          "text": [
            "Model: \"model_6_USE\"\n",
            "_________________________________________________________________\n",
            " Layer (type)                Output Shape              Param #   \n",
            "=================================================================\n",
            " USE (KerasLayer)            (None, 512)               256797824 \n",
            "                                                                 \n",
            " dense_5 (Dense)             (None, 128)               65664     \n",
            "                                                                 \n",
            " dense_6 (Dense)             (None, 1)                 129       \n",
            "                                                                 \n",
            "=================================================================\n",
            "Total params: 256,863,617\n",
            "Trainable params: 65,793\n",
            "Non-trainable params: 256,797,824\n",
            "_________________________________________________________________\n"
          ]
        }
      ],
      "source": [
        "#Let's build the model the same as model_6\n",
        "model_7 = tf.keras.models.clone_model(model_6)\n",
        "\n",
        "#compile the model\n",
        "model_7.compile(loss=\"binary_crossentropy\",\n",
        "                optimizer= tf.keras.optimizers.Adam(),\n",
        "                metrics=[\"accuracy\"]\n",
        "                )\n",
        "\n",
        "model_7.summary()"
      ]
    },
    {
      "cell_type": "code",
      "execution_count": 77,
      "metadata": {
        "colab": {
          "base_uri": "https://localhost:8080/"
        },
        "id": "MtjCKZryYZWt",
        "outputId": "1ecc578b-0175-4a99-9178-ddd1438474ea"
      },
      "outputs": [
        {
          "output_type": "execute_result",
          "data": {
            "text/plain": [
              "(761, 761)"
            ]
          },
          "metadata": {},
          "execution_count": 77
        }
      ],
      "source": [
        "ten_precent = int(0.10* len(train_data_shuffled))\n",
        "\n",
        "text_10p = train_data_shuffled[\"text\"][:ten_precent].to_numpy()\n",
        "label_10p= train_data_shuffled[\"target\"][:ten_precent].to_numpy()\n",
        "\n",
        "len(label_10p), len(text_10p)"
      ]
    },
    {
      "cell_type": "code",
      "execution_count": 78,
      "metadata": {
        "colab": {
          "base_uri": "https://localhost:8080/"
        },
        "id": "v5a5zhiEYFdA",
        "outputId": "3ceccaab-343d-45f9-c3b0-50ab3636dcc2"
      },
      "outputs": [
        {
          "output_type": "stream",
          "name": "stdout",
          "text": [
            "Saving TensorBoard log files to: Tensorboard_for_NLP/model_7_Tensorboard_weights_for_10P_data/Y0307/24/22 - H0355\n",
            "Epoch 1/6\n",
            "24/24 [==============================] - 3s 40ms/step - loss: 0.6575 - accuracy: 0.6978 - val_loss: 0.6109 - val_accuracy: 0.7874\n",
            "Epoch 2/6\n",
            "24/24 [==============================] - 1s 23ms/step - loss: 0.5579 - accuracy: 0.8081 - val_loss: 0.5265 - val_accuracy: 0.7874\n",
            "Epoch 3/6\n",
            "24/24 [==============================] - 1s 24ms/step - loss: 0.4687 - accuracy: 0.8173 - val_loss: 0.4772 - val_accuracy: 0.7927\n",
            "Epoch 4/6\n",
            "24/24 [==============================] - 0s 19ms/step - loss: 0.4126 - accuracy: 0.8239 - val_loss: 0.4577 - val_accuracy: 0.7953\n",
            "Epoch 5/6\n",
            "24/24 [==============================] - 1s 24ms/step - loss: 0.3778 - accuracy: 0.8371 - val_loss: 0.4518 - val_accuracy: 0.7940\n",
            "Epoch 6/6\n",
            "24/24 [==============================] - 1s 23ms/step - loss: 0.3517 - accuracy: 0.8528 - val_loss: 0.4513 - val_accuracy: 0.7848\n"
          ]
        }
      ],
      "source": [
        "#Fit the model\n",
        "model_7_history = model_7.fit(text_10p, label_10p,\n",
        "                              validation_data=(y_train, y_test),\n",
        "                              epochs=6,\n",
        "                              callbacks=[create_tensorboard_callback(\"Tensorboard_for_NLP\", \"model_7_Tensorboard_weights_for_10P_data\")]\n",
        "                              )"
      ]
    },
    {
      "cell_type": "code",
      "execution_count": 79,
      "metadata": {
        "colab": {
          "base_uri": "https://localhost:8080/"
        },
        "id": "wivFu5z7xGcI",
        "outputId": "3f0537bb-042b-4ac9-b32d-848ac70fd6e7"
      },
      "outputs": [
        {
          "output_type": "execute_result",
          "data": {
            "text/plain": [
              "<tf.Tensor: shape=(10,), dtype=float32, numpy=array([0., 1., 1., 0., 1., 1., 1., 1., 1., 0.], dtype=float32)>"
            ]
          },
          "metadata": {},
          "execution_count": 79
        }
      ],
      "source": [
        "model_7_preds = model_7.predict(y_train)\n",
        "model_7_preds = tf.round(tf.squeeze(model_7_preds))\n",
        "model_7_preds[:10]"
      ]
    },
    {
      "cell_type": "code",
      "execution_count": 80,
      "metadata": {
        "colab": {
          "base_uri": "https://localhost:8080/"
        },
        "id": "BpMAM38GwmEx",
        "outputId": "5367ebd1-1250-434f-ffef-fd15bf12d1fa"
      },
      "outputs": [
        {
          "output_type": "execute_result",
          "data": {
            "text/plain": [
              "{'model_accuracy': 0.7847769260406494,\n",
              " 'model_fscore': 0.7848277176873326,\n",
              " 'model_precession': 0.784889379457253,\n",
              " 'model_recall': 0.7847769028871391}"
            ]
          },
          "metadata": {},
          "execution_count": 80
        }
      ],
      "source": [
        "model_7_result= performance_calculate(model_7_preds, y_test, model_7_history)\n",
        "model_7_result"
      ]
    },
    {
      "cell_type": "markdown",
      "metadata": {
        "id": "bN9t8rQiyFRN"
      },
      "source": [
        "**Using same model_7 with diferrent kind of spliting the data (Train_tets_split)**"
      ]
    },
    {
      "cell_type": "code",
      "execution_count": 81,
      "metadata": {
        "colab": {
          "base_uri": "https://localhost:8080/"
        },
        "id": "wMqVyBQD4lzP",
        "outputId": "10e9ff31-7893-487f-8829-65845912206c"
      },
      "outputs": [
        {
          "output_type": "execute_result",
          "data": {
            "text/plain": [
              "(761, 761)"
            ]
          },
          "metadata": {},
          "execution_count": 81
        }
      ],
      "source": [
        "text_data_10p, text_data_90p, label_10p, label_90p= train_test_split(train_data_shuffled[\"text\"].to_numpy(),\n",
        "                 train_data_shuffled[\"target\"].to_numpy(),\n",
        "                 test_size=0.9,\n",
        "                 random_state=42)\n",
        "\n",
        "len(text_data_10p),len(label_10p)"
      ]
    },
    {
      "cell_type": "code",
      "execution_count": 82,
      "metadata": {
        "colab": {
          "base_uri": "https://localhost:8080/"
        },
        "id": "MsHyv5lVmnvE",
        "outputId": "91a232a6-4dba-4785-c1d6-acc562c60811"
      },
      "outputs": [
        {
          "output_type": "stream",
          "name": "stdout",
          "text": [
            "Epoch 1/6\n",
            "24/24 [==============================] - 2s 87ms/step - loss: 0.4273 - accuracy: 0.8055 - val_loss: 0.4358 - val_accuracy: 0.8079\n",
            "Epoch 2/6\n",
            "24/24 [==============================] - 2s 87ms/step - loss: 0.3889 - accuracy: 0.8305 - val_loss: 0.4332 - val_accuracy: 0.8059\n",
            "Epoch 3/6\n",
            "24/24 [==============================] - 2s 85ms/step - loss: 0.3609 - accuracy: 0.8463 - val_loss: 0.4368 - val_accuracy: 0.8062\n",
            "Epoch 4/6\n",
            "24/24 [==============================] - 2s 86ms/step - loss: 0.3403 - accuracy: 0.8528 - val_loss: 0.4415 - val_accuracy: 0.8018\n",
            "Epoch 5/6\n",
            "24/24 [==============================] - 2s 86ms/step - loss: 0.3191 - accuracy: 0.8686 - val_loss: 0.4476 - val_accuracy: 0.7995\n",
            "Epoch 6/6\n",
            "24/24 [==============================] - 2s 85ms/step - loss: 0.3009 - accuracy: 0.8752 - val_loss: 0.4530 - val_accuracy: 0.7977\n"
          ]
        }
      ],
      "source": [
        "model_7_history1 = model_7.fit(x=text_data_10p, y= label_10p,\n",
        "                              validation_data=(text_data_90p, label_90p),\n",
        "                              epochs=6,\n",
        "                              )"
      ]
    },
    {
      "cell_type": "code",
      "execution_count": 83,
      "metadata": {
        "id": "H103iXHKoYV7"
      },
      "outputs": [],
      "source": [
        "train_data_shuffled_10p= train_data_shuffled[[\"text\", \"target\"]].sample(frac=0.1, random_state=42)\n",
        "#train_data_shuffled_10p[:10]\n",
        "\n",
        "test_data_10p = train_data_shuffled_10p[\"target\"].to_list()\n",
        "train_data_10p= train_data_shuffled_10p[\"text\"].to_list()"
      ]
    },
    {
      "cell_type": "markdown",
      "metadata": {
        "id": "jMWu16J1o0kI"
      },
      "source": [
        "**Here we are geting more accuracy with 10% of data then all data cause of data leakage problem**"
      ]
    },
    {
      "cell_type": "code",
      "execution_count": 84,
      "metadata": {
        "colab": {
          "base_uri": "https://localhost:8080/"
        },
        "id": "fe4YaPZfnymi",
        "outputId": "89ab1f28-2fc9-4d86-a7e2-5054d74f9ed2"
      },
      "outputs": [
        {
          "output_type": "stream",
          "name": "stdout",
          "text": [
            "Epoch 1/6\n",
            "24/24 [==============================] - 0s 20ms/step - loss: 0.4659 - accuracy: 0.8003 - val_loss: 0.4236 - val_accuracy: 0.8163\n",
            "Epoch 2/6\n",
            "24/24 [==============================] - 0s 19ms/step - loss: 0.4141 - accuracy: 0.8213 - val_loss: 0.3858 - val_accuracy: 0.8320\n",
            "Epoch 3/6\n",
            "24/24 [==============================] - 0s 20ms/step - loss: 0.3810 - accuracy: 0.8305 - val_loss: 0.3599 - val_accuracy: 0.8425\n",
            "Epoch 4/6\n",
            "24/24 [==============================] - 0s 19ms/step - loss: 0.3572 - accuracy: 0.8410 - val_loss: 0.3389 - val_accuracy: 0.8465\n",
            "Epoch 5/6\n",
            "24/24 [==============================] - 0s 19ms/step - loss: 0.3373 - accuracy: 0.8489 - val_loss: 0.3206 - val_accuracy: 0.8570\n",
            "Epoch 6/6\n",
            "24/24 [==============================] - 0s 19ms/step - loss: 0.3198 - accuracy: 0.8581 - val_loss: 0.3039 - val_accuracy: 0.8701\n"
          ]
        }
      ],
      "source": [
        "#Fit the model\n",
        "model_7_history2 = model_7.fit(train_data_10p, test_data_10p,\n",
        "                              validation_data=(y_train, y_test),\n",
        "                              epochs=6,\n",
        "                              )"
      ]
    },
    {
      "cell_type": "markdown",
      "metadata": {
        "id": "8OI8qJyuzG1Q"
      },
      "source": [
        "# Camparing the result of all models "
      ]
    },
    {
      "cell_type": "code",
      "execution_count": 85,
      "metadata": {
        "id": "A69C6JKhTwhN"
      },
      "outputs": [],
      "source": [
        "all_model_result= pd.DataFrame({\n",
        "    \"model_0_result()BaseLine_model\":baseline_result,\n",
        "    \"model_1_result(Dense_model)\": model_1_result,\n",
        "                                \"model_2_result(RNN)\": model_2_result,\n",
        "                                \"model_3_result(GRU + RNN)\": model_3_result,\n",
        "                                \"model_4_result(NLP + Bidirectional\": model_4_result,\n",
        "                                \"model_5_result(Conv1D)\": model_5_result,\n",
        "                                \"model_6_result(Transfer_Learning)\": model_6_result,\n",
        "                                \"model_7_result(working_with_only_10%_Data)\": model_7_result\n",
        "                                })"
      ]
    },
    {
      "cell_type": "code",
      "execution_count": 86,
      "metadata": {
        "colab": {
          "base_uri": "https://localhost:8080/",
          "height": 300
        },
        "id": "nNy2rdJDTwj-",
        "outputId": "6b8b9f6d-8811-4bee-bc80-218b83ddd896"
      },
      "outputs": [
        {
          "output_type": "execute_result",
          "data": {
            "text/plain": [
              "                                            model_precession  model_recall  \\\n",
              "model_0_result()BaseLine_model                      0.811139      0.792651   \n",
              "model_1_result(Dense_model)                         0.793594      0.775591   \n",
              "model_2_result(RNN)                                 0.766026      0.757218   \n",
              "model_3_result(GRU + RNN)                           0.762314      0.758530   \n",
              "model_4_result(NLP + Bidirectional                  0.759214      0.753281   \n",
              "model_5_result(Conv1D)                              0.781243      0.759843   \n",
              "model_6_result(Transfer_Learning)                   0.828149      0.818898   \n",
              "model_7_result(working_with_only_10%_Data)          0.784889      0.784777   \n",
              "\n",
              "                                            model_fscore  model_accuracy  \n",
              "model_0_result()BaseLine_model                  0.786219        0.792651  \n",
              "model_1_result(Dense_model)                     0.778982        0.775591  \n",
              "model_2_result(RNN)                             0.759219        0.757218  \n",
              "model_3_result(GRU + RNN)                       0.759540        0.758530  \n",
              "model_4_result(NLP + Bidirectional              0.754751        0.753281  \n",
              "model_5_result(Conv1D)                          0.764000        0.759843  \n",
              "model_6_result(Transfer_Learning)               0.820540        0.818898  \n",
              "model_7_result(working_with_only_10%_Data)      0.784828        0.784777  "
            ],
            "text/html": [
              "\n",
              "  <div id=\"df-ea380c91-3740-47f9-a7a1-ac8cce9d510b\">\n",
              "    <div class=\"colab-df-container\">\n",
              "      <div>\n",
              "<style scoped>\n",
              "    .dataframe tbody tr th:only-of-type {\n",
              "        vertical-align: middle;\n",
              "    }\n",
              "\n",
              "    .dataframe tbody tr th {\n",
              "        vertical-align: top;\n",
              "    }\n",
              "\n",
              "    .dataframe thead th {\n",
              "        text-align: right;\n",
              "    }\n",
              "</style>\n",
              "<table border=\"1\" class=\"dataframe\">\n",
              "  <thead>\n",
              "    <tr style=\"text-align: right;\">\n",
              "      <th></th>\n",
              "      <th>model_precession</th>\n",
              "      <th>model_recall</th>\n",
              "      <th>model_fscore</th>\n",
              "      <th>model_accuracy</th>\n",
              "    </tr>\n",
              "  </thead>\n",
              "  <tbody>\n",
              "    <tr>\n",
              "      <th>model_0_result()BaseLine_model</th>\n",
              "      <td>0.811139</td>\n",
              "      <td>0.792651</td>\n",
              "      <td>0.786219</td>\n",
              "      <td>0.792651</td>\n",
              "    </tr>\n",
              "    <tr>\n",
              "      <th>model_1_result(Dense_model)</th>\n",
              "      <td>0.793594</td>\n",
              "      <td>0.775591</td>\n",
              "      <td>0.778982</td>\n",
              "      <td>0.775591</td>\n",
              "    </tr>\n",
              "    <tr>\n",
              "      <th>model_2_result(RNN)</th>\n",
              "      <td>0.766026</td>\n",
              "      <td>0.757218</td>\n",
              "      <td>0.759219</td>\n",
              "      <td>0.757218</td>\n",
              "    </tr>\n",
              "    <tr>\n",
              "      <th>model_3_result(GRU + RNN)</th>\n",
              "      <td>0.762314</td>\n",
              "      <td>0.758530</td>\n",
              "      <td>0.759540</td>\n",
              "      <td>0.758530</td>\n",
              "    </tr>\n",
              "    <tr>\n",
              "      <th>model_4_result(NLP + Bidirectional</th>\n",
              "      <td>0.759214</td>\n",
              "      <td>0.753281</td>\n",
              "      <td>0.754751</td>\n",
              "      <td>0.753281</td>\n",
              "    </tr>\n",
              "    <tr>\n",
              "      <th>model_5_result(Conv1D)</th>\n",
              "      <td>0.781243</td>\n",
              "      <td>0.759843</td>\n",
              "      <td>0.764000</td>\n",
              "      <td>0.759843</td>\n",
              "    </tr>\n",
              "    <tr>\n",
              "      <th>model_6_result(Transfer_Learning)</th>\n",
              "      <td>0.828149</td>\n",
              "      <td>0.818898</td>\n",
              "      <td>0.820540</td>\n",
              "      <td>0.818898</td>\n",
              "    </tr>\n",
              "    <tr>\n",
              "      <th>model_7_result(working_with_only_10%_Data)</th>\n",
              "      <td>0.784889</td>\n",
              "      <td>0.784777</td>\n",
              "      <td>0.784828</td>\n",
              "      <td>0.784777</td>\n",
              "    </tr>\n",
              "  </tbody>\n",
              "</table>\n",
              "</div>\n",
              "      <button class=\"colab-df-convert\" onclick=\"convertToInteractive('df-ea380c91-3740-47f9-a7a1-ac8cce9d510b')\"\n",
              "              title=\"Convert this dataframe to an interactive table.\"\n",
              "              style=\"display:none;\">\n",
              "        \n",
              "  <svg xmlns=\"http://www.w3.org/2000/svg\" height=\"24px\"viewBox=\"0 0 24 24\"\n",
              "       width=\"24px\">\n",
              "    <path d=\"M0 0h24v24H0V0z\" fill=\"none\"/>\n",
              "    <path d=\"M18.56 5.44l.94 2.06.94-2.06 2.06-.94-2.06-.94-.94-2.06-.94 2.06-2.06.94zm-11 1L8.5 8.5l.94-2.06 2.06-.94-2.06-.94L8.5 2.5l-.94 2.06-2.06.94zm10 10l.94 2.06.94-2.06 2.06-.94-2.06-.94-.94-2.06-.94 2.06-2.06.94z\"/><path d=\"M17.41 7.96l-1.37-1.37c-.4-.4-.92-.59-1.43-.59-.52 0-1.04.2-1.43.59L10.3 9.45l-7.72 7.72c-.78.78-.78 2.05 0 2.83L4 21.41c.39.39.9.59 1.41.59.51 0 1.02-.2 1.41-.59l7.78-7.78 2.81-2.81c.8-.78.8-2.07 0-2.86zM5.41 20L4 18.59l7.72-7.72 1.47 1.35L5.41 20z\"/>\n",
              "  </svg>\n",
              "      </button>\n",
              "      \n",
              "  <style>\n",
              "    .colab-df-container {\n",
              "      display:flex;\n",
              "      flex-wrap:wrap;\n",
              "      gap: 12px;\n",
              "    }\n",
              "\n",
              "    .colab-df-convert {\n",
              "      background-color: #E8F0FE;\n",
              "      border: none;\n",
              "      border-radius: 50%;\n",
              "      cursor: pointer;\n",
              "      display: none;\n",
              "      fill: #1967D2;\n",
              "      height: 32px;\n",
              "      padding: 0 0 0 0;\n",
              "      width: 32px;\n",
              "    }\n",
              "\n",
              "    .colab-df-convert:hover {\n",
              "      background-color: #E2EBFA;\n",
              "      box-shadow: 0px 1px 2px rgba(60, 64, 67, 0.3), 0px 1px 3px 1px rgba(60, 64, 67, 0.15);\n",
              "      fill: #174EA6;\n",
              "    }\n",
              "\n",
              "    [theme=dark] .colab-df-convert {\n",
              "      background-color: #3B4455;\n",
              "      fill: #D2E3FC;\n",
              "    }\n",
              "\n",
              "    [theme=dark] .colab-df-convert:hover {\n",
              "      background-color: #434B5C;\n",
              "      box-shadow: 0px 1px 3px 1px rgba(0, 0, 0, 0.15);\n",
              "      filter: drop-shadow(0px 1px 2px rgba(0, 0, 0, 0.3));\n",
              "      fill: #FFFFFF;\n",
              "    }\n",
              "  </style>\n",
              "\n",
              "      <script>\n",
              "        const buttonEl =\n",
              "          document.querySelector('#df-ea380c91-3740-47f9-a7a1-ac8cce9d510b button.colab-df-convert');\n",
              "        buttonEl.style.display =\n",
              "          google.colab.kernel.accessAllowed ? 'block' : 'none';\n",
              "\n",
              "        async function convertToInteractive(key) {\n",
              "          const element = document.querySelector('#df-ea380c91-3740-47f9-a7a1-ac8cce9d510b');\n",
              "          const dataTable =\n",
              "            await google.colab.kernel.invokeFunction('convertToInteractive',\n",
              "                                                     [key], {});\n",
              "          if (!dataTable) return;\n",
              "\n",
              "          const docLinkHtml = 'Like what you see? Visit the ' +\n",
              "            '<a target=\"_blank\" href=https://colab.research.google.com/notebooks/data_table.ipynb>data table notebook</a>'\n",
              "            + ' to learn more about interactive tables.';\n",
              "          element.innerHTML = '';\n",
              "          dataTable['output_type'] = 'display_data';\n",
              "          await google.colab.output.renderOutput(dataTable, element);\n",
              "          const docLink = document.createElement('div');\n",
              "          docLink.innerHTML = docLinkHtml;\n",
              "          element.appendChild(docLink);\n",
              "        }\n",
              "      </script>\n",
              "    </div>\n",
              "  </div>\n",
              "  "
            ]
          },
          "metadata": {},
          "execution_count": 86
        }
      ],
      "source": [
        "all_model_result = all_model_result.transpose()\n",
        "all_model_result"
      ]
    },
    {
      "cell_type": "code",
      "execution_count": 87,
      "metadata": {
        "colab": {
          "base_uri": "https://localhost:8080/",
          "height": 650
        },
        "id": "ctr7Jo2I8CR4",
        "outputId": "0657043b-9db7-4b87-cd39-339bb5b7f8e5"
      },
      "outputs": [
        {
          "output_type": "display_data",
          "data": {
            "text/plain": [
              "<Figure size 720x504 with 1 Axes>"
            ],
            "image/png": "[encoded data removed]"
          },
          "metadata": {
            "needs_background": "light"
          }
        }
      ],
      "source": [
        "all_model_result.plot(kind=\"bar\", figsize=(10,7)).legend(bbox_to_anchor= (1.0,1.0));"
      ]
    },
    {
      "cell_type": "markdown",
      "metadata": {
        "id": "XxyxmA96g8p2"
      },
      "source": [
        "**Inspecting models performance using TensorBoard.dev** - https://tensorboard.dev/"
      ]
    },
    {
      "cell_type": "code",
      "execution_count": 88,
      "metadata": {
        "id": "_gr-HKNxhfqv"
      },
      "outputs": [],
      "source": [
        "#!tensorboard dev upload --logdir ./Tensorboard_for_NLP/ \\\n",
        " # --name \"NLP modeling experiments\"\\\n",
        "  #--one_shot\\"
      ]
    },
    {
      "cell_type": "markdown",
      "metadata": {
        "id": "Yc2bivnxirHh"
      },
      "source": [
        "\n",
        "\n",
        "Done. View your TensorBoard at https://tensorboard.dev/experiment/G7t8PhqVQJeBxYMo6mjnGA/\n"
      ]
    },
    {
      "cell_type": "markdown",
      "metadata": {
        "id": "tCdzMLOXdM5g"
      },
      "source": [
        "# Saving and loading the trained model\n",
        "\n",
        "1. HDF5 Foramate \n",
        "2.SavedModel Formate"
      ]
    },
    {
      "cell_type": "code",
      "execution_count": 89,
      "metadata": {
        "id": "iioC8avxdWIi"
      },
      "outputs": [],
      "source": [
        "#Save model to Hdf5 formate\n",
        "model_6.save(\"model_6.h5\")"
      ]
    },
    {
      "cell_type": "code",
      "execution_count": 90,
      "metadata": {
        "id": "GyYNc3jydWLi"
      },
      "outputs": [],
      "source": [
        "#Load the model with cutome hub layers \n",
        "import tensorflow_hub as hub\n",
        "\n",
        "loaded_model_6= tf.keras.models.load_model(\"model_6.h5\",\n",
        "                                           custom_objects={\"KerasLayer\" : hub.KerasLayer})"
      ]
    },
    {
      "cell_type": "code",
      "execution_count": 91,
      "metadata": {
        "colab": {
          "base_uri": "https://localhost:8080/"
        },
        "id": "V3cgYSDbhMLG",
        "outputId": "b8d0e48e-b024-4395-c605-eb22b9ca64c3"
      },
      "outputs": [
        {
          "output_type": "stream",
          "name": "stdout",
          "text": [
            "Model: \"model_6_USE\"\n",
            "_________________________________________________________________\n",
            " Layer (type)                Output Shape              Param #   \n",
            "=================================================================\n",
            " USE (KerasLayer)            (None, 512)               256797824 \n",
            "                                                                 \n",
            " dense_5 (Dense)             (None, 128)               65664     \n",
            "                                                                 \n",
            " dense_6 (Dense)             (None, 1)                 129       \n",
            "                                                                 \n",
            "=================================================================\n",
            "Total params: 256,863,617\n",
            "Trainable params: 65,793\n",
            "Non-trainable params: 256,797,824\n",
            "_________________________________________________________________\n"
          ]
        }
      ],
      "source": [
        "loaded_model_6.summary()\n"
      ]
    },
    {
      "cell_type": "code",
      "execution_count": 92,
      "metadata": {
        "colab": {
          "base_uri": "https://localhost:8080/"
        },
        "id": "hLr6gTiGhMOF",
        "outputId": "2fab1915-02bc-499d-cbbc-249f21b9fa69"
      },
      "outputs": [
        {
          "output_type": "stream",
          "name": "stdout",
          "text": [
            "24/24 [==============================] - 1s 9ms/step - loss: 0.4253 - accuracy: 0.8189\n"
          ]
        },
        {
          "output_type": "execute_result",
          "data": {
            "text/plain": [
              "[0.4252689480781555, 0.8188976645469666]"
            ]
          },
          "metadata": {},
          "execution_count": 92
        }
      ],
      "source": [
        "loaded_model_6.evaluate(y_train, y_test)"
      ]
    },
    {
      "cell_type": "code",
      "execution_count": 93,
      "metadata": {
        "colab": {
          "base_uri": "https://localhost:8080/"
        },
        "id": "q9ayrQDNj-6Y",
        "outputId": "4ce1eb03-0e4e-4175-a41d-5a58a4ea96ba"
      },
      "outputs": [
        {
          "output_type": "execute_result",
          "data": {
            "text/plain": [
              "{'model_accuracy': 0.8188976645469666,\n",
              " 'model_fscore': 0.8205400235901686,\n",
              " 'model_precession': 0.8281493548938565,\n",
              " 'model_recall': 0.8188976377952756}"
            ]
          },
          "metadata": {},
          "execution_count": 93
        }
      ],
      "source": [
        "model_6_result"
      ]
    },
    {
      "cell_type": "markdown",
      "metadata": {
        "id": "_EOM59gtlhFZ"
      },
      "source": [
        "**Saving & loading the model by SavedModel formate**"
      ]
    },
    {
      "cell_type": "code",
      "execution_count": 94,
      "metadata": {
        "colab": {
          "base_uri": "https://localhost:8080/"
        },
        "id": "b4XGGf7PkGAu",
        "outputId": "1e31166f-82de-4a5b-d322-59642069380c"
      },
      "outputs": [
        {
          "output_type": "stream",
          "name": "stderr",
          "text": [
            "WARNING:absl:Function `_wrapped_model` contains input name(s) USE_input with unsupported characters which will be renamed to use_input in the SavedModel.\n"
          ]
        },
        {
          "output_type": "stream",
          "name": "stdout",
          "text": [
            "INFO:tensorflow:Assets written to: model_6_SavedModel_format/assets\n"
          ]
        },
        {
          "output_type": "stream",
          "name": "stderr",
          "text": [
            "INFO:tensorflow:Assets written to: model_6_SavedModel_format/assets\n"
          ]
        }
      ],
      "source": [
        "model_6.save(\"model_6_SavedModel_format\")"
      ]
    },
    {
      "cell_type": "code",
      "execution_count": 95,
      "metadata": {
        "id": "d9TkpJXWmkn1"
      },
      "outputs": [],
      "source": [
        "Loaded_model_6_SaveModel_format = tf.keras.models.load_model(\"model_6_SavedModel_format\")"
      ]
    },
    {
      "cell_type": "code",
      "execution_count": 96,
      "metadata": {
        "colab": {
          "base_uri": "https://localhost:8080/"
        },
        "id": "Ff39UpE1oWpT",
        "outputId": "d096b270-d257-4a28-bb82-3950e429e7e9"
      },
      "outputs": [
        {
          "output_type": "stream",
          "name": "stdout",
          "text": [
            "24/24 [==============================] - 1s 9ms/step - loss: 0.4253 - accuracy: 0.8189\n"
          ]
        },
        {
          "output_type": "execute_result",
          "data": {
            "text/plain": [
              "[0.42526888847351074, 0.8188976645469666]"
            ]
          },
          "metadata": {},
          "execution_count": 96
        }
      ],
      "source": [
        "#Evaluate model in SavedModel formate\n",
        "Loaded_model_6_SaveModel_format.evaluate(y_train, y_test)"
      ]
    },
    {
      "cell_type": "markdown",
      "metadata": {
        "id": "7LrLo1E8xgTi"
      },
      "source": [
        "**Finding the most wrong examples**"
      ]
    },
    {
      "cell_type": "code",
      "execution_count": 97,
      "metadata": {
        "colab": {
          "base_uri": "https://localhost:8080/"
        },
        "id": "2VYpNzHayCR5",
        "outputId": "c05d05af-f798-489a-f4a5-aa437c66319f"
      },
      "outputs": [
        {
          "output_type": "execute_result",
          "data": {
            "text/plain": [
              "<tf.Tensor: shape=(5,), dtype=float32, numpy=array([0., 1., 1., 0., 1.], dtype=float32)>"
            ]
          },
          "metadata": {},
          "execution_count": 97
        }
      ],
      "source": [
        "model_6_preds[:5]"
      ]
    },
    {
      "cell_type": "code",
      "execution_count": 98,
      "metadata": {
        "colab": {
          "base_uri": "https://localhost:8080/"
        },
        "id": "0ies_fN4yCUa",
        "outputId": "461ad920-acd7-40f8-8b15-f9ba9b37f1e1"
      },
      "outputs": [
        {
          "output_type": "execute_result",
          "data": {
            "text/plain": [
              "<tf.Tensor: shape=(5,), dtype=float32, numpy=\n",
              "array([0.1518555 , 0.7234883 , 0.9930386 , 0.19356465, 0.6843723 ],\n",
              "      dtype=float32)>"
            ]
          },
          "metadata": {},
          "execution_count": 98
        }
      ],
      "source": [
        "model_6_preds_prob = tf.squeeze(model_6.predict(y_train))\n",
        "model_6_preds_prob[:5]"
      ]
    },
    {
      "cell_type": "code",
      "execution_count": 99,
      "metadata": {
        "colab": {
          "base_uri": "https://localhost:8080/",
          "height": 363
        },
        "id": "WLauMCcBouRA",
        "outputId": "e33e033f-c63a-4a2a-e738-605ffb18a17d"
      },
      "outputs": [
        {
          "output_type": "execute_result",
          "data": {
            "text/plain": [
              "                                                text  real_target  \\\n",
              "0  DFR EP016 Monthly Meltdown - On Dnbheaven 2015...            0   \n",
              "1  FedEx no longer to transport bioterror germs i...            0   \n",
              "2  Gunmen kill four in El Salvador bus attack: Su...            1   \n",
              "3  @camilacabello97 Internally and externally scr...            1   \n",
              "4  Radiation emergency #preparedness starts with ...            1   \n",
              "5  Investigators rule catastrophic structural fai...            1   \n",
              "6  How the West was burned: Thousands of wildfire...            1   \n",
              "7  Map: Typhoon Soudelor's predicted path as it a...            1   \n",
              "8  Ûª93 blasts accused Yeda Yakub dies in Karach...            1   \n",
              "9      My ears are bleeding  https://t.co/k5KnNwugwT            0   \n",
              "\n",
              "   Predicitions  predicition_probability  \n",
              "0           0.0                 0.151855  \n",
              "1           1.0                 0.723488  \n",
              "2           1.0                 0.993039  \n",
              "3           0.0                 0.193565  \n",
              "4           1.0                 0.684372  \n",
              "5           1.0                 0.703218  \n",
              "6           1.0                 0.984725  \n",
              "7           1.0                 0.980699  \n",
              "8           1.0                 0.932912  \n",
              "9           0.0                 0.087115  "
            ],
            "text/html": [
              "\n",
              "  <div id=\"df-120fda12-88ca-4b91-9b9e-ddb409e9f396\">\n",
              "    <div class=\"colab-df-container\">\n",
              "      <div>\n",
              "<style scoped>\n",
              "    .dataframe tbody tr th:only-of-type {\n",
              "        vertical-align: middle;\n",
              "    }\n",
              "\n",
              "    .dataframe tbody tr th {\n",
              "        vertical-align: top;\n",
              "    }\n",
              "\n",
              "    .dataframe thead th {\n",
              "        text-align: right;\n",
              "    }\n",
              "</style>\n",
              "<table border=\"1\" class=\"dataframe\">\n",
              "  <thead>\n",
              "    <tr style=\"text-align: right;\">\n",
              "      <th></th>\n",
              "      <th>text</th>\n",
              "      <th>real_target</th>\n",
              "      <th>Predicitions</th>\n",
              "      <th>predicition_probability</th>\n",
              "    </tr>\n",
              "  </thead>\n",
              "  <tbody>\n",
              "    <tr>\n",
              "      <th>0</th>\n",
              "      <td>DFR EP016 Monthly Meltdown - On Dnbheaven 2015...</td>\n",
              "      <td>0</td>\n",
              "      <td>0.0</td>\n",
              "      <td>0.151855</td>\n",
              "    </tr>\n",
              "    <tr>\n",
              "      <th>1</th>\n",
              "      <td>FedEx no longer to transport bioterror germs i...</td>\n",
              "      <td>0</td>\n",
              "      <td>1.0</td>\n",
              "      <td>0.723488</td>\n",
              "    </tr>\n",
              "    <tr>\n",
              "      <th>2</th>\n",
              "      <td>Gunmen kill four in El Salvador bus attack: Su...</td>\n",
              "      <td>1</td>\n",
              "      <td>1.0</td>\n",
              "      <td>0.993039</td>\n",
              "    </tr>\n",
              "    <tr>\n",
              "      <th>3</th>\n",
              "      <td>@camilacabello97 Internally and externally scr...</td>\n",
              "      <td>1</td>\n",
              "      <td>0.0</td>\n",
              "      <td>0.193565</td>\n",
              "    </tr>\n",
              "    <tr>\n",
              "      <th>4</th>\n",
              "      <td>Radiation emergency #preparedness starts with ...</td>\n",
              "      <td>1</td>\n",
              "      <td>1.0</td>\n",
              "      <td>0.684372</td>\n",
              "    </tr>\n",
              "    <tr>\n",
              "      <th>5</th>\n",
              "      <td>Investigators rule catastrophic structural fai...</td>\n",
              "      <td>1</td>\n",
              "      <td>1.0</td>\n",
              "      <td>0.703218</td>\n",
              "    </tr>\n",
              "    <tr>\n",
              "      <th>6</th>\n",
              "      <td>How the West was burned: Thousands of wildfire...</td>\n",
              "      <td>1</td>\n",
              "      <td>1.0</td>\n",
              "      <td>0.984725</td>\n",
              "    </tr>\n",
              "    <tr>\n",
              "      <th>7</th>\n",
              "      <td>Map: Typhoon Soudelor's predicted path as it a...</td>\n",
              "      <td>1</td>\n",
              "      <td>1.0</td>\n",
              "      <td>0.980699</td>\n",
              "    </tr>\n",
              "    <tr>\n",
              "      <th>8</th>\n",
              "      <td>Ûª93 blasts accused Yeda Yakub dies in Karach...</td>\n",
              "      <td>1</td>\n",
              "      <td>1.0</td>\n",
              "      <td>0.932912</td>\n",
              "    </tr>\n",
              "    <tr>\n",
              "      <th>9</th>\n",
              "      <td>My ears are bleeding  https://t.co/k5KnNwugwT</td>\n",
              "      <td>0</td>\n",
              "      <td>0.0</td>\n",
              "      <td>0.087115</td>\n",
              "    </tr>\n",
              "  </tbody>\n",
              "</table>\n",
              "</div>\n",
              "      <button class=\"colab-df-convert\" onclick=\"convertToInteractive('df-120fda12-88ca-4b91-9b9e-ddb409e9f396')\"\n",
              "              title=\"Convert this dataframe to an interactive table.\"\n",
              "              style=\"display:none;\">\n",
              "        \n",
              "  <svg xmlns=\"http://www.w3.org/2000/svg\" height=\"24px\"viewBox=\"0 0 24 24\"\n",
              "       width=\"24px\">\n",
              "    <path d=\"M0 0h24v24H0V0z\" fill=\"none\"/>\n",
              "    <path d=\"M18.56 5.44l.94 2.06.94-2.06 2.06-.94-2.06-.94-.94-2.06-.94 2.06-2.06.94zm-11 1L8.5 8.5l.94-2.06 2.06-.94-2.06-.94L8.5 2.5l-.94 2.06-2.06.94zm10 10l.94 2.06.94-2.06 2.06-.94-2.06-.94-.94-2.06-.94 2.06-2.06.94z\"/><path d=\"M17.41 7.96l-1.37-1.37c-.4-.4-.92-.59-1.43-.59-.52 0-1.04.2-1.43.59L10.3 9.45l-7.72 7.72c-.78.78-.78 2.05 0 2.83L4 21.41c.39.39.9.59 1.41.59.51 0 1.02-.2 1.41-.59l7.78-7.78 2.81-2.81c.8-.78.8-2.07 0-2.86zM5.41 20L4 18.59l7.72-7.72 1.47 1.35L5.41 20z\"/>\n",
              "  </svg>\n",
              "      </button>\n",
              "      \n",
              "  <style>\n",
              "    .colab-df-container {\n",
              "      display:flex;\n",
              "      flex-wrap:wrap;\n",
              "      gap: 12px;\n",
              "    }\n",
              "\n",
              "    .colab-df-convert {\n",
              "      background-color: #E8F0FE;\n",
              "      border: none;\n",
              "      border-radius: 50%;\n",
              "      cursor: pointer;\n",
              "      display: none;\n",
              "      fill: #1967D2;\n",
              "      height: 32px;\n",
              "      padding: 0 0 0 0;\n",
              "      width: 32px;\n",
              "    }\n",
              "\n",
              "    .colab-df-convert:hover {\n",
              "      background-color: #E2EBFA;\n",
              "      box-shadow: 0px 1px 2px rgba(60, 64, 67, 0.3), 0px 1px 3px 1px rgba(60, 64, 67, 0.15);\n",
              "      fill: #174EA6;\n",
              "    }\n",
              "\n",
              "    [theme=dark] .colab-df-convert {\n",
              "      background-color: #3B4455;\n",
              "      fill: #D2E3FC;\n",
              "    }\n",
              "\n",
              "    [theme=dark] .colab-df-convert:hover {\n",
              "      background-color: #434B5C;\n",
              "      box-shadow: 0px 1px 3px 1px rgba(0, 0, 0, 0.15);\n",
              "      filter: drop-shadow(0px 1px 2px rgba(0, 0, 0, 0.3));\n",
              "      fill: #FFFFFF;\n",
              "    }\n",
              "  </style>\n",
              "\n",
              "      <script>\n",
              "        const buttonEl =\n",
              "          document.querySelector('#df-120fda12-88ca-4b91-9b9e-ddb409e9f396 button.colab-df-convert');\n",
              "        buttonEl.style.display =\n",
              "          google.colab.kernel.accessAllowed ? 'block' : 'none';\n",
              "\n",
              "        async function convertToInteractive(key) {\n",
              "          const element = document.querySelector('#df-120fda12-88ca-4b91-9b9e-ddb409e9f396');\n",
              "          const dataTable =\n",
              "            await google.colab.kernel.invokeFunction('convertToInteractive',\n",
              "                                                     [key], {});\n",
              "          if (!dataTable) return;\n",
              "\n",
              "          const docLinkHtml = 'Like what you see? Visit the ' +\n",
              "            '<a target=\"_blank\" href=https://colab.research.google.com/notebooks/data_table.ipynb>data table notebook</a>'\n",
              "            + ' to learn more about interactive tables.';\n",
              "          element.innerHTML = '';\n",
              "          dataTable['output_type'] = 'display_data';\n",
              "          await google.colab.output.renderOutput(dataTable, element);\n",
              "          const docLink = document.createElement('div');\n",
              "          docLink.innerHTML = docLinkHtml;\n",
              "          element.appendChild(docLink);\n",
              "        }\n",
              "      </script>\n",
              "    </div>\n",
              "  </div>\n",
              "  "
            ]
          },
          "metadata": {},
          "execution_count": 99
        }
      ],
      "source": [
        "val_df= pd.DataFrame({\n",
        "    \"text\": y_train,\n",
        "    \"real_target\":y_test,\n",
        "    \"Predicitions\":model_6_preds,\n",
        "    \"predicition_probability\":model_6_preds_prob })\n",
        "\n",
        "val_df[:10]"
      ]
    },
    {
      "cell_type": "code",
      "execution_count": 100,
      "metadata": {
        "colab": {
          "base_uri": "https://localhost:8080/",
          "height": 363
        },
        "id": "mG-DLaiBouTk",
        "outputId": "7202e6ec-1df9-48c7-b3c5-e51f35c99476"
      },
      "outputs": [
        {
          "output_type": "execute_result",
          "data": {
            "text/plain": [
              "                                                  text  real_target  \\\n",
              "40   @BoyInAHorsemask its a panda trapped in a dogs...            1   \n",
              "408  @willienelson We need help! Horses will die!Pl...            1   \n",
              "486  VICTORINOX SWISS ARMY DATE WOMEN'S RUBBER MOP ...            1   \n",
              "294  Lucas Duda is Ghost Rider. Not the Nic Cage ve...            1   \n",
              "59   You can never escape me. Bullets don't harm me...            1   \n",
              "244  Reddit Will Now QuarantineÛ_ http://t.co/pkUA...            1   \n",
              "411  @SoonerMagic_ I mean I'm a fan but I don't nee...            1   \n",
              "233                    I get to smoke my shit in peace            1   \n",
              "38   Why are you deluged with low self-image? Take ...            1   \n",
              "23   Ron &amp; Fez - Dave's High School Crush https...            1   \n",
              "\n",
              "     Predicitions  predicition_probability  \n",
              "40            0.0                 0.058544  \n",
              "408           0.0                 0.054973  \n",
              "486           0.0                 0.054259  \n",
              "294           0.0                 0.053724  \n",
              "59            0.0                 0.050426  \n",
              "244           0.0                 0.045480  \n",
              "411           0.0                 0.042490  \n",
              "233           0.0                 0.040622  \n",
              "38            0.0                 0.029699  \n",
              "23            0.0                 0.026920  "
            ],
            "text/html": [
              "\n",
              "  <div id=\"df-81191c0b-8869-4408-af48-ff1119baff47\">\n",
              "    <div class=\"colab-df-container\">\n",
              "      <div>\n",
              "<style scoped>\n",
              "    .dataframe tbody tr th:only-of-type {\n",
              "        vertical-align: middle;\n",
              "    }\n",
              "\n",
              "    .dataframe tbody tr th {\n",
              "        vertical-align: top;\n",
              "    }\n",
              "\n",
              "    .dataframe thead th {\n",
              "        text-align: right;\n",
              "    }\n",
              "</style>\n",
              "<table border=\"1\" class=\"dataframe\">\n",
              "  <thead>\n",
              "    <tr style=\"text-align: right;\">\n",
              "      <th></th>\n",
              "      <th>text</th>\n",
              "      <th>real_target</th>\n",
              "      <th>Predicitions</th>\n",
              "      <th>predicition_probability</th>\n",
              "    </tr>\n",
              "  </thead>\n",
              "  <tbody>\n",
              "    <tr>\n",
              "      <th>40</th>\n",
              "      <td>@BoyInAHorsemask its a panda trapped in a dogs...</td>\n",
              "      <td>1</td>\n",
              "      <td>0.0</td>\n",
              "      <td>0.058544</td>\n",
              "    </tr>\n",
              "    <tr>\n",
              "      <th>408</th>\n",
              "      <td>@willienelson We need help! Horses will die!Pl...</td>\n",
              "      <td>1</td>\n",
              "      <td>0.0</td>\n",
              "      <td>0.054973</td>\n",
              "    </tr>\n",
              "    <tr>\n",
              "      <th>486</th>\n",
              "      <td>VICTORINOX SWISS ARMY DATE WOMEN'S RUBBER MOP ...</td>\n",
              "      <td>1</td>\n",
              "      <td>0.0</td>\n",
              "      <td>0.054259</td>\n",
              "    </tr>\n",
              "    <tr>\n",
              "      <th>294</th>\n",
              "      <td>Lucas Duda is Ghost Rider. Not the Nic Cage ve...</td>\n",
              "      <td>1</td>\n",
              "      <td>0.0</td>\n",
              "      <td>0.053724</td>\n",
              "    </tr>\n",
              "    <tr>\n",
              "      <th>59</th>\n",
              "      <td>You can never escape me. Bullets don't harm me...</td>\n",
              "      <td>1</td>\n",
              "      <td>0.0</td>\n",
              "      <td>0.050426</td>\n",
              "    </tr>\n",
              "    <tr>\n",
              "      <th>244</th>\n",
              "      <td>Reddit Will Now QuarantineÛ_ http://t.co/pkUA...</td>\n",
              "      <td>1</td>\n",
              "      <td>0.0</td>\n",
              "      <td>0.045480</td>\n",
              "    </tr>\n",
              "    <tr>\n",
              "      <th>411</th>\n",
              "      <td>@SoonerMagic_ I mean I'm a fan but I don't nee...</td>\n",
              "      <td>1</td>\n",
              "      <td>0.0</td>\n",
              "      <td>0.042490</td>\n",
              "    </tr>\n",
              "    <tr>\n",
              "      <th>233</th>\n",
              "      <td>I get to smoke my shit in peace</td>\n",
              "      <td>1</td>\n",
              "      <td>0.0</td>\n",
              "      <td>0.040622</td>\n",
              "    </tr>\n",
              "    <tr>\n",
              "      <th>38</th>\n",
              "      <td>Why are you deluged with low self-image? Take ...</td>\n",
              "      <td>1</td>\n",
              "      <td>0.0</td>\n",
              "      <td>0.029699</td>\n",
              "    </tr>\n",
              "    <tr>\n",
              "      <th>23</th>\n",
              "      <td>Ron &amp;amp; Fez - Dave's High School Crush https...</td>\n",
              "      <td>1</td>\n",
              "      <td>0.0</td>\n",
              "      <td>0.026920</td>\n",
              "    </tr>\n",
              "  </tbody>\n",
              "</table>\n",
              "</div>\n",
              "      <button class=\"colab-df-convert\" onclick=\"convertToInteractive('df-81191c0b-8869-4408-af48-ff1119baff47')\"\n",
              "              title=\"Convert this dataframe to an interactive table.\"\n",
              "              style=\"display:none;\">\n",
              "        \n",
              "  <svg xmlns=\"http://www.w3.org/2000/svg\" height=\"24px\"viewBox=\"0 0 24 24\"\n",
              "       width=\"24px\">\n",
              "    <path d=\"M0 0h24v24H0V0z\" fill=\"none\"/>\n",
              "    <path d=\"M18.56 5.44l.94 2.06.94-2.06 2.06-.94-2.06-.94-.94-2.06-.94 2.06-2.06.94zm-11 1L8.5 8.5l.94-2.06 2.06-.94-2.06-.94L8.5 2.5l-.94 2.06-2.06.94zm10 10l.94 2.06.94-2.06 2.06-.94-2.06-.94-.94-2.06-.94 2.06-2.06.94z\"/><path d=\"M17.41 7.96l-1.37-1.37c-.4-.4-.92-.59-1.43-.59-.52 0-1.04.2-1.43.59L10.3 9.45l-7.72 7.72c-.78.78-.78 2.05 0 2.83L4 21.41c.39.39.9.59 1.41.59.51 0 1.02-.2 1.41-.59l7.78-7.78 2.81-2.81c.8-.78.8-2.07 0-2.86zM5.41 20L4 18.59l7.72-7.72 1.47 1.35L5.41 20z\"/>\n",
              "  </svg>\n",
              "      </button>\n",
              "      \n",
              "  <style>\n",
              "    .colab-df-container {\n",
              "      display:flex;\n",
              "      flex-wrap:wrap;\n",
              "      gap: 12px;\n",
              "    }\n",
              "\n",
              "    .colab-df-convert {\n",
              "      background-color: #E8F0FE;\n",
              "      border: none;\n",
              "      border-radius: 50%;\n",
              "      cursor: pointer;\n",
              "      display: none;\n",
              "      fill: #1967D2;\n",
              "      height: 32px;\n",
              "      padding: 0 0 0 0;\n",
              "      width: 32px;\n",
              "    }\n",
              "\n",
              "    .colab-df-convert:hover {\n",
              "      background-color: #E2EBFA;\n",
              "      box-shadow: 0px 1px 2px rgba(60, 64, 67, 0.3), 0px 1px 3px 1px rgba(60, 64, 67, 0.15);\n",
              "      fill: #174EA6;\n",
              "    }\n",
              "\n",
              "    [theme=dark] .colab-df-convert {\n",
              "      background-color: #3B4455;\n",
              "      fill: #D2E3FC;\n",
              "    }\n",
              "\n",
              "    [theme=dark] .colab-df-convert:hover {\n",
              "      background-color: #434B5C;\n",
              "      box-shadow: 0px 1px 3px 1px rgba(0, 0, 0, 0.15);\n",
              "      filter: drop-shadow(0px 1px 2px rgba(0, 0, 0, 0.3));\n",
              "      fill: #FFFFFF;\n",
              "    }\n",
              "  </style>\n",
              "\n",
              "      <script>\n",
              "        const buttonEl =\n",
              "          document.querySelector('#df-81191c0b-8869-4408-af48-ff1119baff47 button.colab-df-convert');\n",
              "        buttonEl.style.display =\n",
              "          google.colab.kernel.accessAllowed ? 'block' : 'none';\n",
              "\n",
              "        async function convertToInteractive(key) {\n",
              "          const element = document.querySelector('#df-81191c0b-8869-4408-af48-ff1119baff47');\n",
              "          const dataTable =\n",
              "            await google.colab.kernel.invokeFunction('convertToInteractive',\n",
              "                                                     [key], {});\n",
              "          if (!dataTable) return;\n",
              "\n",
              "          const docLinkHtml = 'Like what you see? Visit the ' +\n",
              "            '<a target=\"_blank\" href=https://colab.research.google.com/notebooks/data_table.ipynb>data table notebook</a>'\n",
              "            + ' to learn more about interactive tables.';\n",
              "          element.innerHTML = '';\n",
              "          dataTable['output_type'] = 'display_data';\n",
              "          await google.colab.output.renderOutput(dataTable, element);\n",
              "          const docLink = document.createElement('div');\n",
              "          docLink.innerHTML = docLinkHtml;\n",
              "          element.appendChild(docLink);\n",
              "        }\n",
              "      </script>\n",
              "    </div>\n",
              "  </div>\n",
              "  "
            ]
          },
          "metadata": {},
          "execution_count": 100
        }
      ],
      "source": [
        "#Find the wrong predictions and sort by predictions probabilities \n",
        "most_wrong= val_df[val_df[\"real_target\"] != val_df[\"Predicitions\"]].sort_values(\"predicition_probability\", ascending = False)\n",
        "most_wrong[-10:]"
      ]
    },
    {
      "cell_type": "code",
      "source": [
        "most_wrong[:10]"
      ],
      "metadata": {
        "id": "EP-1ia1T_NWb",
        "colab": {
          "base_uri": "https://localhost:8080/",
          "height": 363
        },
        "outputId": "3242bd8c-35e6-4f92-a79c-97bab40563c5"
      },
      "execution_count": 101,
      "outputs": [
        {
          "output_type": "execute_result",
          "data": {
            "text/plain": [
              "                                                  text  real_target  \\\n",
              "31   ? High Skies - Burning Buildings ? http://t.co...            0   \n",
              "628  @noah_anyname That's where the concentration c...            0   \n",
              "759  FedEx will no longer transport bioterror patho...            0   \n",
              "393  @SonofLiberty357 all illuminated by the bright...            0   \n",
              "109  [55436] 1950 LIONEL TRAINS SMOKE LOCOMOTIVES W...            0   \n",
              "209  Ashes 2015: AustraliaÛªs collapse at Trent Br...            0   \n",
              "49   @madonnamking RSPCA site multiple 7 story high...            0   \n",
              "251  @AshGhebranious civil rights continued in the ...            0   \n",
              "303  Trafford Centre film fans angry after Odeon ci...            0   \n",
              "381                    Deaths 3 http://t.co/nApviyGKYK            0   \n",
              "\n",
              "     Predicitions  predicition_probability  \n",
              "31            1.0                 0.903854  \n",
              "628           1.0                 0.870375  \n",
              "759           1.0                 0.853662  \n",
              "393           1.0                 0.839020  \n",
              "109           1.0                 0.826443  \n",
              "209           1.0                 0.815984  \n",
              "49            1.0                 0.811341  \n",
              "251           1.0                 0.783530  \n",
              "303           1.0                 0.776250  \n",
              "381           1.0                 0.772687  "
            ],
            "text/html": [
              "\n",
              "  <div id=\"df-541a5842-8d0f-492b-9834-c702eeb726f0\">\n",
              "    <div class=\"colab-df-container\">\n",
              "      <div>\n",
              "<style scoped>\n",
              "    .dataframe tbody tr th:only-of-type {\n",
              "        vertical-align: middle;\n",
              "    }\n",
              "\n",
              "    .dataframe tbody tr th {\n",
              "        vertical-align: top;\n",
              "    }\n",
              "\n",
              "    .dataframe thead th {\n",
              "        text-align: right;\n",
              "    }\n",
              "</style>\n",
              "<table border=\"1\" class=\"dataframe\">\n",
              "  <thead>\n",
              "    <tr style=\"text-align: right;\">\n",
              "      <th></th>\n",
              "      <th>text</th>\n",
              "      <th>real_target</th>\n",
              "      <th>Predicitions</th>\n",
              "      <th>predicition_probability</th>\n",
              "    </tr>\n",
              "  </thead>\n",
              "  <tbody>\n",
              "    <tr>\n",
              "      <th>31</th>\n",
              "      <td>? High Skies - Burning Buildings ? http://t.co...</td>\n",
              "      <td>0</td>\n",
              "      <td>1.0</td>\n",
              "      <td>0.903854</td>\n",
              "    </tr>\n",
              "    <tr>\n",
              "      <th>628</th>\n",
              "      <td>@noah_anyname That's where the concentration c...</td>\n",
              "      <td>0</td>\n",
              "      <td>1.0</td>\n",
              "      <td>0.870375</td>\n",
              "    </tr>\n",
              "    <tr>\n",
              "      <th>759</th>\n",
              "      <td>FedEx will no longer transport bioterror patho...</td>\n",
              "      <td>0</td>\n",
              "      <td>1.0</td>\n",
              "      <td>0.853662</td>\n",
              "    </tr>\n",
              "    <tr>\n",
              "      <th>393</th>\n",
              "      <td>@SonofLiberty357 all illuminated by the bright...</td>\n",
              "      <td>0</td>\n",
              "      <td>1.0</td>\n",
              "      <td>0.839020</td>\n",
              "    </tr>\n",
              "    <tr>\n",
              "      <th>109</th>\n",
              "      <td>[55436] 1950 LIONEL TRAINS SMOKE LOCOMOTIVES W...</td>\n",
              "      <td>0</td>\n",
              "      <td>1.0</td>\n",
              "      <td>0.826443</td>\n",
              "    </tr>\n",
              "    <tr>\n",
              "      <th>209</th>\n",
              "      <td>Ashes 2015: AustraliaÛªs collapse at Trent Br...</td>\n",
              "      <td>0</td>\n",
              "      <td>1.0</td>\n",
              "      <td>0.815984</td>\n",
              "    </tr>\n",
              "    <tr>\n",
              "      <th>49</th>\n",
              "      <td>@madonnamking RSPCA site multiple 7 story high...</td>\n",
              "      <td>0</td>\n",
              "      <td>1.0</td>\n",
              "      <td>0.811341</td>\n",
              "    </tr>\n",
              "    <tr>\n",
              "      <th>251</th>\n",
              "      <td>@AshGhebranious civil rights continued in the ...</td>\n",
              "      <td>0</td>\n",
              "      <td>1.0</td>\n",
              "      <td>0.783530</td>\n",
              "    </tr>\n",
              "    <tr>\n",
              "      <th>303</th>\n",
              "      <td>Trafford Centre film fans angry after Odeon ci...</td>\n",
              "      <td>0</td>\n",
              "      <td>1.0</td>\n",
              "      <td>0.776250</td>\n",
              "    </tr>\n",
              "    <tr>\n",
              "      <th>381</th>\n",
              "      <td>Deaths 3 http://t.co/nApviyGKYK</td>\n",
              "      <td>0</td>\n",
              "      <td>1.0</td>\n",
              "      <td>0.772687</td>\n",
              "    </tr>\n",
              "  </tbody>\n",
              "</table>\n",
              "</div>\n",
              "      <button class=\"colab-df-convert\" onclick=\"convertToInteractive('df-541a5842-8d0f-492b-9834-c702eeb726f0')\"\n",
              "              title=\"Convert this dataframe to an interactive table.\"\n",
              "              style=\"display:none;\">\n",
              "        \n",
              "  <svg xmlns=\"http://www.w3.org/2000/svg\" height=\"24px\"viewBox=\"0 0 24 24\"\n",
              "       width=\"24px\">\n",
              "    <path d=\"M0 0h24v24H0V0z\" fill=\"none\"/>\n",
              "    <path d=\"M18.56 5.44l.94 2.06.94-2.06 2.06-.94-2.06-.94-.94-2.06-.94 2.06-2.06.94zm-11 1L8.5 8.5l.94-2.06 2.06-.94-2.06-.94L8.5 2.5l-.94 2.06-2.06.94zm10 10l.94 2.06.94-2.06 2.06-.94-2.06-.94-.94-2.06-.94 2.06-2.06.94z\"/><path d=\"M17.41 7.96l-1.37-1.37c-.4-.4-.92-.59-1.43-.59-.52 0-1.04.2-1.43.59L10.3 9.45l-7.72 7.72c-.78.78-.78 2.05 0 2.83L4 21.41c.39.39.9.59 1.41.59.51 0 1.02-.2 1.41-.59l7.78-7.78 2.81-2.81c.8-.78.8-2.07 0-2.86zM5.41 20L4 18.59l7.72-7.72 1.47 1.35L5.41 20z\"/>\n",
              "  </svg>\n",
              "      </button>\n",
              "      \n",
              "  <style>\n",
              "    .colab-df-container {\n",
              "      display:flex;\n",
              "      flex-wrap:wrap;\n",
              "      gap: 12px;\n",
              "    }\n",
              "\n",
              "    .colab-df-convert {\n",
              "      background-color: #E8F0FE;\n",
              "      border: none;\n",
              "      border-radius: 50%;\n",
              "      cursor: pointer;\n",
              "      display: none;\n",
              "      fill: #1967D2;\n",
              "      height: 32px;\n",
              "      padding: 0 0 0 0;\n",
              "      width: 32px;\n",
              "    }\n",
              "\n",
              "    .colab-df-convert:hover {\n",
              "      background-color: #E2EBFA;\n",
              "      box-shadow: 0px 1px 2px rgba(60, 64, 67, 0.3), 0px 1px 3px 1px rgba(60, 64, 67, 0.15);\n",
              "      fill: #174EA6;\n",
              "    }\n",
              "\n",
              "    [theme=dark] .colab-df-convert {\n",
              "      background-color: #3B4455;\n",
              "      fill: #D2E3FC;\n",
              "    }\n",
              "\n",
              "    [theme=dark] .colab-df-convert:hover {\n",
              "      background-color: #434B5C;\n",
              "      box-shadow: 0px 1px 3px 1px rgba(0, 0, 0, 0.15);\n",
              "      filter: drop-shadow(0px 1px 2px rgba(0, 0, 0, 0.3));\n",
              "      fill: #FFFFFF;\n",
              "    }\n",
              "  </style>\n",
              "\n",
              "      <script>\n",
              "        const buttonEl =\n",
              "          document.querySelector('#df-541a5842-8d0f-492b-9834-c702eeb726f0 button.colab-df-convert');\n",
              "        buttonEl.style.display =\n",
              "          google.colab.kernel.accessAllowed ? 'block' : 'none';\n",
              "\n",
              "        async function convertToInteractive(key) {\n",
              "          const element = document.querySelector('#df-541a5842-8d0f-492b-9834-c702eeb726f0');\n",
              "          const dataTable =\n",
              "            await google.colab.kernel.invokeFunction('convertToInteractive',\n",
              "                                                     [key], {});\n",
              "          if (!dataTable) return;\n",
              "\n",
              "          const docLinkHtml = 'Like what you see? Visit the ' +\n",
              "            '<a target=\"_blank\" href=https://colab.research.google.com/notebooks/data_table.ipynb>data table notebook</a>'\n",
              "            + ' to learn more about interactive tables.';\n",
              "          element.innerHTML = '';\n",
              "          dataTable['output_type'] = 'display_data';\n",
              "          await google.colab.output.renderOutput(dataTable, element);\n",
              "          const docLink = document.createElement('div');\n",
              "          docLink.innerHTML = docLinkHtml;\n",
              "          element.appendChild(docLink);\n",
              "        }\n",
              "      </script>\n",
              "    </div>\n",
              "  </div>\n",
              "  "
            ]
          },
          "metadata": {},
          "execution_count": 101
        }
      ]
    },
    {
      "cell_type": "code",
      "source": [
        "for row in most_wrong[-10:].itertuples():\n",
        "  _, text,\treal_target,\tPredicitions,\tpredicition_probability = row\n",
        "\n",
        "  print(f\"Target {real_target}, pred: {Predicitions}, predicition_probability: {predicition_probability}\")\n",
        "  print(f\"text: {text}\\n\")"
      ],
      "metadata": {
        "id": "pFx5pP5L_NZg",
        "colab": {
          "base_uri": "https://localhost:8080/"
        },
        "outputId": "7849918d-0801-444b-8073-140f6fe6c4ae"
      },
      "execution_count": 108,
      "outputs": [
        {
          "output_type": "stream",
          "name": "stdout",
          "text": [
            "Target 1, pred: 0.0, predicition_probability: 0.05854421108961105\n",
            "text: @BoyInAHorsemask its a panda trapped in a dogs body\n",
            "\n",
            "Target 1, pred: 0.0, predicition_probability: 0.05497313663363457\n",
            "text: @willienelson We need help! Horses will die!Please RT &amp; sign petition!Take a stand &amp; be a voice for them! #gilbert23 https://t.co/e8dl1lNCVu\n",
            "\n",
            "Target 1, pred: 0.0, predicition_probability: 0.054259274154901505\n",
            "text: VICTORINOX SWISS ARMY DATE WOMEN'S RUBBER MOP WATCH 241487 http://t.co/yFy3nkkcoH http://t.co/KNEhVvOHVK\n",
            "\n",
            "Target 1, pred: 0.0, predicition_probability: 0.05372397229075432\n",
            "text: Lucas Duda is Ghost Rider. Not the Nic Cage version but an actual 'engulfed in flames' badass. #Mets\n",
            "\n",
            "Target 1, pred: 0.0, predicition_probability: 0.05042567849159241\n",
            "text: You can never escape me. Bullets don't harm me. Nothing harms me. But I know pain. I know pain. Sometimes I share it. With someone like you.\n",
            "\n",
            "Target 1, pred: 0.0, predicition_probability: 0.0454804003238678\n",
            "text: Reddit Will Now QuarantineÛ_ http://t.co/pkUAMXw6pm #onlinecommunities #reddit #amageddon #freespeech #Business http://t.co/PAWvNJ4sAP\n",
            "\n",
            "Target 1, pred: 0.0, predicition_probability: 0.0424896664917469\n",
            "text: @SoonerMagic_ I mean I'm a fan but I don't need a girl sounding off like a damn siren\n",
            "\n",
            "Target 1, pred: 0.0, predicition_probability: 0.04062166437506676\n",
            "text: I get to smoke my shit in peace\n",
            "\n",
            "Target 1, pred: 0.0, predicition_probability: 0.02969888411462307\n",
            "text: Why are you deluged with low self-image? Take the quiz: http://t.co/XsPqdOrIqj http://t.co/CQYvFR4UCy\n",
            "\n",
            "Target 1, pred: 0.0, predicition_probability: 0.02691967971622944\n",
            "text: Ron &amp; Fez - Dave's High School Crush https://t.co/aN3W16c8F6 via @YouTube\n",
            "\n"
          ]
        }
      ]
    },
    {
      "cell_type": "code",
      "source": [
        "test_data_pred_prob= model_6.predict(test_data[\"text\"])\n",
        "\n",
        "test_data_pred = tf.round(tf.squeeze(test_data_pred_prob))\n",
        "\n",
        "test_data_sentences= test_data[\"text\"].to_list()\n",
        "\n",
        "\n",
        "test_data_df= pd.DataFrame({\"test_data_predicition\": test_data_pred[:10],\n",
        "              \n",
        "               \"test_data_pred_prob\": tf.squeeze(test_data_pred_prob[:10]),\n",
        "               \"text\": test_data_sentences[:10],\n",
        "               })\n",
        "\n",
        "test_data_df"
      ],
      "metadata": {
        "colab": {
          "base_uri": "https://localhost:8080/",
          "height": 363
        },
        "id": "lU1Pi30lFWIW",
        "outputId": "8cdb591f-c1fc-48e6-d111-98dddbec70f5"
      },
      "execution_count": 177,
      "outputs": [
        {
          "output_type": "execute_result",
          "data": {
            "text/plain": [
              "   test_data_predicition  test_data_pred_prob  \\\n",
              "0                    1.0             0.522231   \n",
              "1                    1.0             0.888674   \n",
              "2                    1.0             0.810277   \n",
              "3                    1.0             0.938765   \n",
              "4                    1.0             0.960314   \n",
              "5                    1.0             0.586265   \n",
              "6                    0.0             0.065800   \n",
              "7                    0.0             0.029201   \n",
              "8                    0.0             0.039423   \n",
              "9                    0.0             0.046517   \n",
              "\n",
              "                                                text  \n",
              "0                 Just happened a terrible car crash  \n",
              "1  Heard about #earthquake is different cities, s...  \n",
              "2  there is a forest fire at spot pond, geese are...  \n",
              "3           Apocalypse lighting. #Spokane #wildfires  \n",
              "4      Typhoon Soudelor kills 28 in China and Taiwan  \n",
              "5                 We're shaking...It's an earthquake  \n",
              "6  They'd probably still show more life than Arse...  \n",
              "7                                  Hey! How are you?  \n",
              "8                                   What a nice hat?  \n",
              "9                                          Fuck off!  "
            ],
            "text/html": [
              "\n",
              "  <div id=\"df-d521df4f-b359-4596-a0a8-f9c8be9ab32a\">\n",
              "    <div class=\"colab-df-container\">\n",
              "      <div>\n",
              "<style scoped>\n",
              "    .dataframe tbody tr th:only-of-type {\n",
              "        vertical-align: middle;\n",
              "    }\n",
              "\n",
              "    .dataframe tbody tr th {\n",
              "        vertical-align: top;\n",
              "    }\n",
              "\n",
              "    .dataframe thead th {\n",
              "        text-align: right;\n",
              "    }\n",
              "</style>\n",
              "<table border=\"1\" class=\"dataframe\">\n",
              "  <thead>\n",
              "    <tr style=\"text-align: right;\">\n",
              "      <th></th>\n",
              "      <th>test_data_predicition</th>\n",
              "      <th>test_data_pred_prob</th>\n",
              "      <th>text</th>\n",
              "    </tr>\n",
              "  </thead>\n",
              "  <tbody>\n",
              "    <tr>\n",
              "      <th>0</th>\n",
              "      <td>1.0</td>\n",
              "      <td>0.522231</td>\n",
              "      <td>Just happened a terrible car crash</td>\n",
              "    </tr>\n",
              "    <tr>\n",
              "      <th>1</th>\n",
              "      <td>1.0</td>\n",
              "      <td>0.888674</td>\n",
              "      <td>Heard about #earthquake is different cities, s...</td>\n",
              "    </tr>\n",
              "    <tr>\n",
              "      <th>2</th>\n",
              "      <td>1.0</td>\n",
              "      <td>0.810277</td>\n",
              "      <td>there is a forest fire at spot pond, geese are...</td>\n",
              "    </tr>\n",
              "    <tr>\n",
              "      <th>3</th>\n",
              "      <td>1.0</td>\n",
              "      <td>0.938765</td>\n",
              "      <td>Apocalypse lighting. #Spokane #wildfires</td>\n",
              "    </tr>\n",
              "    <tr>\n",
              "      <th>4</th>\n",
              "      <td>1.0</td>\n",
              "      <td>0.960314</td>\n",
              "      <td>Typhoon Soudelor kills 28 in China and Taiwan</td>\n",
              "    </tr>\n",
              "    <tr>\n",
              "      <th>5</th>\n",
              "      <td>1.0</td>\n",
              "      <td>0.586265</td>\n",
              "      <td>We're shaking...It's an earthquake</td>\n",
              "    </tr>\n",
              "    <tr>\n",
              "      <th>6</th>\n",
              "      <td>0.0</td>\n",
              "      <td>0.065800</td>\n",
              "      <td>They'd probably still show more life than Arse...</td>\n",
              "    </tr>\n",
              "    <tr>\n",
              "      <th>7</th>\n",
              "      <td>0.0</td>\n",
              "      <td>0.029201</td>\n",
              "      <td>Hey! How are you?</td>\n",
              "    </tr>\n",
              "    <tr>\n",
              "      <th>8</th>\n",
              "      <td>0.0</td>\n",
              "      <td>0.039423</td>\n",
              "      <td>What a nice hat?</td>\n",
              "    </tr>\n",
              "    <tr>\n",
              "      <th>9</th>\n",
              "      <td>0.0</td>\n",
              "      <td>0.046517</td>\n",
              "      <td>Fuck off!</td>\n",
              "    </tr>\n",
              "  </tbody>\n",
              "</table>\n",
              "</div>\n",
              "      <button class=\"colab-df-convert\" onclick=\"convertToInteractive('df-d521df4f-b359-4596-a0a8-f9c8be9ab32a')\"\n",
              "              title=\"Convert this dataframe to an interactive table.\"\n",
              "              style=\"display:none;\">\n",
              "        \n",
              "  <svg xmlns=\"http://www.w3.org/2000/svg\" height=\"24px\"viewBox=\"0 0 24 24\"\n",
              "       width=\"24px\">\n",
              "    <path d=\"M0 0h24v24H0V0z\" fill=\"none\"/>\n",
              "    <path d=\"M18.56 5.44l.94 2.06.94-2.06 2.06-.94-2.06-.94-.94-2.06-.94 2.06-2.06.94zm-11 1L8.5 8.5l.94-2.06 2.06-.94-2.06-.94L8.5 2.5l-.94 2.06-2.06.94zm10 10l.94 2.06.94-2.06 2.06-.94-2.06-.94-.94-2.06-.94 2.06-2.06.94z\"/><path d=\"M17.41 7.96l-1.37-1.37c-.4-.4-.92-.59-1.43-.59-.52 0-1.04.2-1.43.59L10.3 9.45l-7.72 7.72c-.78.78-.78 2.05 0 2.83L4 21.41c.39.39.9.59 1.41.59.51 0 1.02-.2 1.41-.59l7.78-7.78 2.81-2.81c.8-.78.8-2.07 0-2.86zM5.41 20L4 18.59l7.72-7.72 1.47 1.35L5.41 20z\"/>\n",
              "  </svg>\n",
              "      </button>\n",
              "      \n",
              "  <style>\n",
              "    .colab-df-container {\n",
              "      display:flex;\n",
              "      flex-wrap:wrap;\n",
              "      gap: 12px;\n",
              "    }\n",
              "\n",
              "    .colab-df-convert {\n",
              "      background-color: #E8F0FE;\n",
              "      border: none;\n",
              "      border-radius: 50%;\n",
              "      cursor: pointer;\n",
              "      display: none;\n",
              "      fill: #1967D2;\n",
              "      height: 32px;\n",
              "      padding: 0 0 0 0;\n",
              "      width: 32px;\n",
              "    }\n",
              "\n",
              "    .colab-df-convert:hover {\n",
              "      background-color: #E2EBFA;\n",
              "      box-shadow: 0px 1px 2px rgba(60, 64, 67, 0.3), 0px 1px 3px 1px rgba(60, 64, 67, 0.15);\n",
              "      fill: #174EA6;\n",
              "    }\n",
              "\n",
              "    [theme=dark] .colab-df-convert {\n",
              "      background-color: #3B4455;\n",
              "      fill: #D2E3FC;\n",
              "    }\n",
              "\n",
              "    [theme=dark] .colab-df-convert:hover {\n",
              "      background-color: #434B5C;\n",
              "      box-shadow: 0px 1px 3px 1px rgba(0, 0, 0, 0.15);\n",
              "      filter: drop-shadow(0px 1px 2px rgba(0, 0, 0, 0.3));\n",
              "      fill: #FFFFFF;\n",
              "    }\n",
              "  </style>\n",
              "\n",
              "      <script>\n",
              "        const buttonEl =\n",
              "          document.querySelector('#df-d521df4f-b359-4596-a0a8-f9c8be9ab32a button.colab-df-convert');\n",
              "        buttonEl.style.display =\n",
              "          google.colab.kernel.accessAllowed ? 'block' : 'none';\n",
              "\n",
              "        async function convertToInteractive(key) {\n",
              "          const element = document.querySelector('#df-d521df4f-b359-4596-a0a8-f9c8be9ab32a');\n",
              "          const dataTable =\n",
              "            await google.colab.kernel.invokeFunction('convertToInteractive',\n",
              "                                                     [key], {});\n",
              "          if (!dataTable) return;\n",
              "\n",
              "          const docLinkHtml = 'Like what you see? Visit the ' +\n",
              "            '<a target=\"_blank\" href=https://colab.research.google.com/notebooks/data_table.ipynb>data table notebook</a>'\n",
              "            + ' to learn more about interactive tables.';\n",
              "          element.innerHTML = '';\n",
              "          dataTable['output_type'] = 'display_data';\n",
              "          await google.colab.output.renderOutput(dataTable, element);\n",
              "          const docLink = document.createElement('div');\n",
              "          docLink.innerHTML = docLinkHtml;\n",
              "          element.appendChild(docLink);\n",
              "        }\n",
              "      </script>\n",
              "    </div>\n",
              "  </div>\n",
              "  "
            ]
          },
          "metadata": {},
          "execution_count": 177
        }
      ]
    },
    {
      "cell_type": "code",
      "source": [
        "random_test_senteces"
      ],
      "metadata": {
        "colab": {
          "base_uri": "https://localhost:8080/",
          "height": 35
        },
        "id": "ocX8kaRR9nNr",
        "outputId": "0249e2fc-43ec-43f7-b979-8569cdafeb44"
      },
      "execution_count": 184,
      "outputs": [
        {
          "output_type": "execute_result",
          "data": {
            "text/plain": [
              "'#CityofCalgary has activated its Municipal Emergency Plan. #yycstorm'"
            ],
            "application/vnd.google.colaboratory.intrinsic+json": {
              "type": "string"
            }
          },
          "metadata": {},
          "execution_count": 184
        }
      ]
    },
    {
      "cell_type": "code",
      "source": [
        "# Making predictions on the test dataset\n",
        "test_sentences = test_data[\"text\"].to_list()\n",
        "test_samples = random.sample(test_sentences, 10)\n",
        "for test_sample in test_samples:\n",
        "  pred_prob = tf.squeeze(model_6.predict([test_sample]))\n",
        "  pred = tf.round(pred_prob)\n",
        "  print(f\"Pred: {int(pred)}, Prob: {pred_prob}\")\n",
        "  print(f\"Text:\\n{test_sample}\\n\")\n",
        "  print(\"----\\n\")"
      ],
      "metadata": {
        "colab": {
          "base_uri": "https://localhost:8080/"
        },
        "id": "_i3WcZ5JHkLU",
        "outputId": "c7db87bf-1033-49e9-b59d-b65cf4f96bd8"
      },
      "execution_count": 202,
      "outputs": [
        {
          "output_type": "stream",
          "name": "stdout",
          "text": [
            "Pred: 0, Prob: 0.1458236128091812\n",
            "Text:\n",
            "Remove the http://t.co/zmoKZZf4qp and Linkury Browser Hijacker. PITA as it hijacks both browsers and their shortcuts.\n",
            "http://t.co/QWDkzTi97g\n",
            "\n",
            "----\n",
            "\n",
            "Pred: 0, Prob: 0.07806465774774551\n",
            "Text:\n",
            "I don't understand how White Iverson by Post Malone hasn't blown the fuck *UP* already.\n",
            "\n",
            "----\n",
            "\n",
            "Pred: 1, Prob: 0.7928470969200134\n",
            "Text:\n",
            "Islamic State threatens to kill another hostage: @DailyGleaner @TJProvincial @TJGreaterSJ http://t.co/dfPLiqjMk2\n",
            "\n",
            "----\n",
            "\n",
            "Pred: 1, Prob: 0.7536041140556335\n",
            "Text:\n",
            "@adolwyn This near U? @JWagstaffe: RT @OldsFireDept: Aug 5 2015 Hwy27 west of Olds. Approximately 1 foot of hail. http://t.co/Yg0pd73Bpw'\n",
            "\n",
            "----\n",
            "\n",
            "Pred: 0, Prob: 0.0240529365837574\n",
            "Text:\n",
            "@MeganRestivo I am literally screaming for you!! Congratulations!\n",
            "\n",
            "----\n",
            "\n",
            "Pred: 0, Prob: 0.1923770308494568\n",
            "Text:\n",
            "AND I'M DROWNING IN THE DÌäJÌÛ VUUUUU WE'VE SEEN IT ALL BEFOOOOOOOORE\n",
            "\n",
            "----\n",
            "\n",
            "Pred: 0, Prob: 0.12180065363645554\n",
            "Text:\n",
            "Yes. He said its dropping soon '@SDotJR_: NO WAYS!!! A video for 'Stretcher'?! @Ofentse_Tsie'\n",
            "\n",
            "----\n",
            "\n",
            "Pred: 0, Prob: 0.06029113009572029\n",
            "Text:\n",
            "@ModCloth having some trouble with your site- keep getting this every time I log in? http://t.co/dnKkYiFsvT\n",
            "\n",
            "----\n",
            "\n",
            "Pred: 0, Prob: 0.1468902975320816\n",
            "Text:\n",
            "@ArvindKejriwal Bharat is showing silent political upheaval and change to fulfill the wishes of the people. Retired DGM NABARD\n",
            "\n",
            "----\n",
            "\n",
            "Pred: 0, Prob: 0.045992471277713776\n",
            "Text:\n",
            "my brother said he has a crush on a girl named Danielle ???????? OH GOD NO\n",
            "\n",
            "----\n",
            "\n"
          ]
        }
      ]
    },
    {
      "cell_type": "markdown",
      "source": [
        " **Making peridiction from custom data**"
      ],
      "metadata": {
        "id": "rdxntZeqQCzM"
      }
    },
    {
      "cell_type": "code",
      "source": [
        "custom_pred_prob=tf.squeeze(model_6.predict([\"6 Killed In Firecracker Explosion In Bihar Businessman House\"]))\n",
        "custom_pred = tf.round(custom_pred_prob) \n",
        "\n",
        "print(f\"custom_pred: {custom_pred}\")\n",
        "print(f\"custom_pred_prob: {custom_pred_prob}\")"
      ],
      "metadata": {
        "colab": {
          "base_uri": "https://localhost:8080/"
        },
        "id": "_INpkB9IQOM5",
        "outputId": "f49fff02-2e0b-44e6-a932-204b1361e43e"
      },
      "execution_count": 217,
      "outputs": [
        {
          "output_type": "stream",
          "name": "stdout",
          "text": [
            "custom_pred: 1.0\n",
            "custom_pred_prob: 0.9576371908187866\n"
          ]
        }
      ]
    }
  ],
  "metadata": {
    "accelerator": "GPU",
    "colab": {
      "collapsed_sections": [
        "tJH7umipS1_T",
        "SZfUqMSHIbY8",
        "eW9_CsppjYBt",
        "vt5Z0Kdygjxw",
        "kedTYUiLrjQ-",
        "20dlXkuVvdCw",
        "vF81CODupV0n"
      ],
      "name": "NLP (Natural_Language_Processing )",
      "provenance": [],
      "authorship_tag": "ABX9TyNFiufcPvqSvM6l36ErIDjj",
      "include_colab_link": true
    },
    "kernelspec": {
      "display_name": "Python 3",
      "name": "python3"
    },
    "language_info": {
      "name": "python"
    }
  },
  "nbformat": 4,
  "nbformat_minor": 0
}